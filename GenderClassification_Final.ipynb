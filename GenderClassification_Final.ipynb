{
  "nbformat": 4,
  "nbformat_minor": 0,
  "metadata": {
    "colab": {
      "provenance": []
    },
    "kernelspec": {
      "name": "python3",
      "display_name": "Python 3"
    },
    "language_info": {
      "name": "python"
    }
  },
  "cells": [
    {
      "cell_type": "markdown",
      "source": [
        "# **Part 1 - Preprocessing**"
      ],
      "metadata": {
        "id": "9zwahxvVipNx"
      }
    },
    {
      "cell_type": "code",
      "execution_count": 1,
      "metadata": {
        "id": "8ltGLNwVeqF-"
      },
      "outputs": [],
      "source": [
        "import pandas as pd\n",
        "import numpy as np\n",
        "import os\n",
        "import seaborn as sns\n",
        "import matplotlib.pyplot as plt\n",
        "import gensim\n",
        "import string\n",
        "from nltk.stem import WordNetLemmatizer\n",
        "from nltk.tokenize import TweetTokenizer\n",
        "from nltk.stem import *\n",
        "import re\n",
        "from sklearn.metrics import plot_confusion_matrix\n",
        "from sklearn.model_selection import train_test_split\n",
        "from sklearn.feature_extraction.text import TfidfVectorizer\n",
        "from sklearn import model_selection, naive_bayes, svm\n",
        "from sklearn.metrics import accuracy_score\n",
        "from sklearn.metrics import classification_report\n",
        "from sklearn.feature_extraction.text import CountVectorizer\n",
        "from sklearn.metrics import confusion_matrix\n",
        "import nltk\n",
        "import warnings\n",
        "warnings.filterwarnings(\"ignore\")"
      ]
    },
    {
      "cell_type": "markdown",
      "source": [
        "For this csv file we need to use \"latin1\" encoding\n",
        "\n"
      ],
      "metadata": {
        "id": "H872YxDQjqx2"
      }
    },
    {
      "cell_type": "code",
      "source": [
        "data = pd.read_csv(\"/content/drive/MyDrive/Data_Colab/gender-classifier-DFE-791531.csv\", encoding = \"latin-1\")"
      ],
      "metadata": {
        "id": "Y6kmOnw9fLzL"
      },
      "execution_count": 2,
      "outputs": []
    },
    {
      "cell_type": "code",
      "source": [
        "data.columns"
      ],
      "metadata": {
        "colab": {
          "base_uri": "https://localhost:8080/"
        },
        "id": "nAeRX55qnmzH",
        "outputId": "517cf3a3-3d39-42ac-c3d4-2fa4964a1e2e"
      },
      "execution_count": 3,
      "outputs": [
        {
          "output_type": "execute_result",
          "data": {
            "text/plain": [
              "Index(['_unit_id', '_golden', '_unit_state', '_trusted_judgments',\n",
              "       '_last_judgment_at', 'gender', 'gender:confidence', 'profile_yn',\n",
              "       'profile_yn:confidence', 'created', 'description', 'fav_number',\n",
              "       'gender_gold', 'link_color', 'name', 'profile_yn_gold', 'profileimage',\n",
              "       'retweet_count', 'sidebar_color', 'text', 'tweet_coord', 'tweet_count',\n",
              "       'tweet_created', 'tweet_id', 'tweet_location', 'user_timezone'],\n",
              "      dtype='object')"
            ]
          },
          "metadata": {},
          "execution_count": 3
        }
      ]
    },
    {
      "cell_type": "code",
      "source": [
        "## We can drop unnecessary columns like [\"_last_judgment_at\"]\n",
        "\n",
        "data = data[[\"description\", \"text\", \"gender\", \"gender:confidence\",\"profile_yn\"]]"
      ],
      "metadata": {
        "id": "ZyINPwHvfLrg"
      },
      "execution_count": 4,
      "outputs": []
    },
    {
      "cell_type": "code",
      "source": [
        "data"
      ],
      "metadata": {
        "colab": {
          "base_uri": "https://localhost:8080/",
          "height": 424
        },
        "id": "6GUUtUSlpUBJ",
        "outputId": "09c291cc-cc09-48a8-b61e-f48a26e39dec"
      },
      "execution_count": 5,
      "outputs": [
        {
          "output_type": "execute_result",
          "data": {
            "text/plain": [
              "                                             description  \\\n",
              "0                                  i sing my own rhythm.   \n",
              "1      I'm the author of novels filled with family dr...   \n",
              "2                    louis whining and squealing and all   \n",
              "3      Mobile guy.  49ers, Shazam, Google, Kleiner Pe...   \n",
              "4      Ricky Wilson The Best FRONTMAN/Kaiser Chiefs T...   \n",
              "...                                                  ...   \n",
              "20045                                               (rp)   \n",
              "20046  Whatever you like, it's not a problem at all. ...   \n",
              "20047  #TeamBarcelona ..You look lost so you should f...   \n",
              "20048  Anti-statist; I homeschool my kids. Aspiring t...   \n",
              "20049                     Teamwork makes the dream work.   \n",
              "\n",
              "                                                    text  gender  \\\n",
              "0      Robbie E Responds To Critics After Win Against...    male   \n",
              "1      ÛÏIt felt like they were my friends and I was...    male   \n",
              "2      i absolutely adore when louis starts the songs...    male   \n",
              "3      Hi @JordanSpieth - Looking at the url - do you...    male   \n",
              "4      Watching Neighbours on Sky+ catching up with t...  female   \n",
              "...                                                  ...     ...   \n",
              "20045  @lookupondeath ...Fine, and I'll drink tea too...  female   \n",
              "20046  Greg Hardy you a good player and all but don't...    male   \n",
              "20047  You can miss people and still never want to se...    male   \n",
              "20048  @bitemyapp i had noticed your tendency to pee ...  female   \n",
              "20049  I think for my APUSH creative project I'm goin...  female   \n",
              "\n",
              "       gender:confidence profile_yn  \n",
              "0                 1.0000        yes  \n",
              "1                 1.0000        yes  \n",
              "2                 0.6625        yes  \n",
              "3                 1.0000        yes  \n",
              "4                 1.0000        yes  \n",
              "...                  ...        ...  \n",
              "20045             1.0000        yes  \n",
              "20046             1.0000        yes  \n",
              "20047             1.0000        yes  \n",
              "20048             0.8489        yes  \n",
              "20049             1.0000        yes  \n",
              "\n",
              "[20050 rows x 5 columns]"
            ],
            "text/html": [
              "\n",
              "  <div id=\"df-f80421ea-eadb-47ae-b90a-e7c91c363f78\">\n",
              "    <div class=\"colab-df-container\">\n",
              "      <div>\n",
              "<style scoped>\n",
              "    .dataframe tbody tr th:only-of-type {\n",
              "        vertical-align: middle;\n",
              "    }\n",
              "\n",
              "    .dataframe tbody tr th {\n",
              "        vertical-align: top;\n",
              "    }\n",
              "\n",
              "    .dataframe thead th {\n",
              "        text-align: right;\n",
              "    }\n",
              "</style>\n",
              "<table border=\"1\" class=\"dataframe\">\n",
              "  <thead>\n",
              "    <tr style=\"text-align: right;\">\n",
              "      <th></th>\n",
              "      <th>description</th>\n",
              "      <th>text</th>\n",
              "      <th>gender</th>\n",
              "      <th>gender:confidence</th>\n",
              "      <th>profile_yn</th>\n",
              "    </tr>\n",
              "  </thead>\n",
              "  <tbody>\n",
              "    <tr>\n",
              "      <th>0</th>\n",
              "      <td>i sing my own rhythm.</td>\n",
              "      <td>Robbie E Responds To Critics After Win Against...</td>\n",
              "      <td>male</td>\n",
              "      <td>1.0000</td>\n",
              "      <td>yes</td>\n",
              "    </tr>\n",
              "    <tr>\n",
              "      <th>1</th>\n",
              "      <td>I'm the author of novels filled with family dr...</td>\n",
              "      <td>ÛÏIt felt like they were my friends and I was...</td>\n",
              "      <td>male</td>\n",
              "      <td>1.0000</td>\n",
              "      <td>yes</td>\n",
              "    </tr>\n",
              "    <tr>\n",
              "      <th>2</th>\n",
              "      <td>louis whining and squealing and all</td>\n",
              "      <td>i absolutely adore when louis starts the songs...</td>\n",
              "      <td>male</td>\n",
              "      <td>0.6625</td>\n",
              "      <td>yes</td>\n",
              "    </tr>\n",
              "    <tr>\n",
              "      <th>3</th>\n",
              "      <td>Mobile guy.  49ers, Shazam, Google, Kleiner Pe...</td>\n",
              "      <td>Hi @JordanSpieth - Looking at the url - do you...</td>\n",
              "      <td>male</td>\n",
              "      <td>1.0000</td>\n",
              "      <td>yes</td>\n",
              "    </tr>\n",
              "    <tr>\n",
              "      <th>4</th>\n",
              "      <td>Ricky Wilson The Best FRONTMAN/Kaiser Chiefs T...</td>\n",
              "      <td>Watching Neighbours on Sky+ catching up with t...</td>\n",
              "      <td>female</td>\n",
              "      <td>1.0000</td>\n",
              "      <td>yes</td>\n",
              "    </tr>\n",
              "    <tr>\n",
              "      <th>...</th>\n",
              "      <td>...</td>\n",
              "      <td>...</td>\n",
              "      <td>...</td>\n",
              "      <td>...</td>\n",
              "      <td>...</td>\n",
              "    </tr>\n",
              "    <tr>\n",
              "      <th>20045</th>\n",
              "      <td>(rp)</td>\n",
              "      <td>@lookupondeath ...Fine, and I'll drink tea too...</td>\n",
              "      <td>female</td>\n",
              "      <td>1.0000</td>\n",
              "      <td>yes</td>\n",
              "    </tr>\n",
              "    <tr>\n",
              "      <th>20046</th>\n",
              "      <td>Whatever you like, it's not a problem at all. ...</td>\n",
              "      <td>Greg Hardy you a good player and all but don't...</td>\n",
              "      <td>male</td>\n",
              "      <td>1.0000</td>\n",
              "      <td>yes</td>\n",
              "    </tr>\n",
              "    <tr>\n",
              "      <th>20047</th>\n",
              "      <td>#TeamBarcelona ..You look lost so you should f...</td>\n",
              "      <td>You can miss people and still never want to se...</td>\n",
              "      <td>male</td>\n",
              "      <td>1.0000</td>\n",
              "      <td>yes</td>\n",
              "    </tr>\n",
              "    <tr>\n",
              "      <th>20048</th>\n",
              "      <td>Anti-statist; I homeschool my kids. Aspiring t...</td>\n",
              "      <td>@bitemyapp i had noticed your tendency to pee ...</td>\n",
              "      <td>female</td>\n",
              "      <td>0.8489</td>\n",
              "      <td>yes</td>\n",
              "    </tr>\n",
              "    <tr>\n",
              "      <th>20049</th>\n",
              "      <td>Teamwork makes the dream work.</td>\n",
              "      <td>I think for my APUSH creative project I'm goin...</td>\n",
              "      <td>female</td>\n",
              "      <td>1.0000</td>\n",
              "      <td>yes</td>\n",
              "    </tr>\n",
              "  </tbody>\n",
              "</table>\n",
              "<p>20050 rows × 5 columns</p>\n",
              "</div>\n",
              "      <button class=\"colab-df-convert\" onclick=\"convertToInteractive('df-f80421ea-eadb-47ae-b90a-e7c91c363f78')\"\n",
              "              title=\"Convert this dataframe to an interactive table.\"\n",
              "              style=\"display:none;\">\n",
              "        \n",
              "  <svg xmlns=\"http://www.w3.org/2000/svg\" height=\"24px\"viewBox=\"0 0 24 24\"\n",
              "       width=\"24px\">\n",
              "    <path d=\"M0 0h24v24H0V0z\" fill=\"none\"/>\n",
              "    <path d=\"M18.56 5.44l.94 2.06.94-2.06 2.06-.94-2.06-.94-.94-2.06-.94 2.06-2.06.94zm-11 1L8.5 8.5l.94-2.06 2.06-.94-2.06-.94L8.5 2.5l-.94 2.06-2.06.94zm10 10l.94 2.06.94-2.06 2.06-.94-2.06-.94-.94-2.06-.94 2.06-2.06.94z\"/><path d=\"M17.41 7.96l-1.37-1.37c-.4-.4-.92-.59-1.43-.59-.52 0-1.04.2-1.43.59L10.3 9.45l-7.72 7.72c-.78.78-.78 2.05 0 2.83L4 21.41c.39.39.9.59 1.41.59.51 0 1.02-.2 1.41-.59l7.78-7.78 2.81-2.81c.8-.78.8-2.07 0-2.86zM5.41 20L4 18.59l7.72-7.72 1.47 1.35L5.41 20z\"/>\n",
              "  </svg>\n",
              "      </button>\n",
              "      \n",
              "  <style>\n",
              "    .colab-df-container {\n",
              "      display:flex;\n",
              "      flex-wrap:wrap;\n",
              "      gap: 12px;\n",
              "    }\n",
              "\n",
              "    .colab-df-convert {\n",
              "      background-color: #E8F0FE;\n",
              "      border: none;\n",
              "      border-radius: 50%;\n",
              "      cursor: pointer;\n",
              "      display: none;\n",
              "      fill: #1967D2;\n",
              "      height: 32px;\n",
              "      padding: 0 0 0 0;\n",
              "      width: 32px;\n",
              "    }\n",
              "\n",
              "    .colab-df-convert:hover {\n",
              "      background-color: #E2EBFA;\n",
              "      box-shadow: 0px 1px 2px rgba(60, 64, 67, 0.3), 0px 1px 3px 1px rgba(60, 64, 67, 0.15);\n",
              "      fill: #174EA6;\n",
              "    }\n",
              "\n",
              "    [theme=dark] .colab-df-convert {\n",
              "      background-color: #3B4455;\n",
              "      fill: #D2E3FC;\n",
              "    }\n",
              "\n",
              "    [theme=dark] .colab-df-convert:hover {\n",
              "      background-color: #434B5C;\n",
              "      box-shadow: 0px 1px 3px 1px rgba(0, 0, 0, 0.15);\n",
              "      filter: drop-shadow(0px 1px 2px rgba(0, 0, 0, 0.3));\n",
              "      fill: #FFFFFF;\n",
              "    }\n",
              "  </style>\n",
              "\n",
              "      <script>\n",
              "        const buttonEl =\n",
              "          document.querySelector('#df-f80421ea-eadb-47ae-b90a-e7c91c363f78 button.colab-df-convert');\n",
              "        buttonEl.style.display =\n",
              "          google.colab.kernel.accessAllowed ? 'block' : 'none';\n",
              "\n",
              "        async function convertToInteractive(key) {\n",
              "          const element = document.querySelector('#df-f80421ea-eadb-47ae-b90a-e7c91c363f78');\n",
              "          const dataTable =\n",
              "            await google.colab.kernel.invokeFunction('convertToInteractive',\n",
              "                                                     [key], {});\n",
              "          if (!dataTable) return;\n",
              "\n",
              "          const docLinkHtml = 'Like what you see? Visit the ' +\n",
              "            '<a target=\"_blank\" href=https://colab.research.google.com/notebooks/data_table.ipynb>data table notebook</a>'\n",
              "            + ' to learn more about interactive tables.';\n",
              "          element.innerHTML = '';\n",
              "          dataTable['output_type'] = 'display_data';\n",
              "          await google.colab.output.renderOutput(dataTable, element);\n",
              "          const docLink = document.createElement('div');\n",
              "          docLink.innerHTML = docLinkHtml;\n",
              "          element.appendChild(docLink);\n",
              "        }\n",
              "      </script>\n",
              "    </div>\n",
              "  </div>\n",
              "  "
            ]
          },
          "metadata": {},
          "execution_count": 5
        }
      ]
    },
    {
      "cell_type": "code",
      "source": [
        "data = data[data[\"gender\"] != \"unknown\"]"
      ],
      "metadata": {
        "id": "Lysf1kh41B8W"
      },
      "execution_count": 6,
      "outputs": []
    },
    {
      "cell_type": "code",
      "source": [
        "data.reset_index(drop=True)"
      ],
      "metadata": {
        "colab": {
          "base_uri": "https://localhost:8080/",
          "height": 424
        },
        "id": "Wa_fQDnN_8tN",
        "outputId": "ee40ee1f-dba3-4c1c-9201-67f717ec0cd7"
      },
      "execution_count": 7,
      "outputs": [
        {
          "output_type": "execute_result",
          "data": {
            "text/plain": [
              "                                             description  \\\n",
              "0                                  i sing my own rhythm.   \n",
              "1      I'm the author of novels filled with family dr...   \n",
              "2                    louis whining and squealing and all   \n",
              "3      Mobile guy.  49ers, Shazam, Google, Kleiner Pe...   \n",
              "4      Ricky Wilson The Best FRONTMAN/Kaiser Chiefs T...   \n",
              "...                                                  ...   \n",
              "18928                                               (rp)   \n",
              "18929  Whatever you like, it's not a problem at all. ...   \n",
              "18930  #TeamBarcelona ..You look lost so you should f...   \n",
              "18931  Anti-statist; I homeschool my kids. Aspiring t...   \n",
              "18932                     Teamwork makes the dream work.   \n",
              "\n",
              "                                                    text  gender  \\\n",
              "0      Robbie E Responds To Critics After Win Against...    male   \n",
              "1      ÛÏIt felt like they were my friends and I was...    male   \n",
              "2      i absolutely adore when louis starts the songs...    male   \n",
              "3      Hi @JordanSpieth - Looking at the url - do you...    male   \n",
              "4      Watching Neighbours on Sky+ catching up with t...  female   \n",
              "...                                                  ...     ...   \n",
              "18928  @lookupondeath ...Fine, and I'll drink tea too...  female   \n",
              "18929  Greg Hardy you a good player and all but don't...    male   \n",
              "18930  You can miss people and still never want to se...    male   \n",
              "18931  @bitemyapp i had noticed your tendency to pee ...  female   \n",
              "18932  I think for my APUSH creative project I'm goin...  female   \n",
              "\n",
              "       gender:confidence profile_yn  \n",
              "0                 1.0000        yes  \n",
              "1                 1.0000        yes  \n",
              "2                 0.6625        yes  \n",
              "3                 1.0000        yes  \n",
              "4                 1.0000        yes  \n",
              "...                  ...        ...  \n",
              "18928             1.0000        yes  \n",
              "18929             1.0000        yes  \n",
              "18930             1.0000        yes  \n",
              "18931             0.8489        yes  \n",
              "18932             1.0000        yes  \n",
              "\n",
              "[18933 rows x 5 columns]"
            ],
            "text/html": [
              "\n",
              "  <div id=\"df-5fa1c3e2-c73d-4821-8c6e-eaa6424dbb78\">\n",
              "    <div class=\"colab-df-container\">\n",
              "      <div>\n",
              "<style scoped>\n",
              "    .dataframe tbody tr th:only-of-type {\n",
              "        vertical-align: middle;\n",
              "    }\n",
              "\n",
              "    .dataframe tbody tr th {\n",
              "        vertical-align: top;\n",
              "    }\n",
              "\n",
              "    .dataframe thead th {\n",
              "        text-align: right;\n",
              "    }\n",
              "</style>\n",
              "<table border=\"1\" class=\"dataframe\">\n",
              "  <thead>\n",
              "    <tr style=\"text-align: right;\">\n",
              "      <th></th>\n",
              "      <th>description</th>\n",
              "      <th>text</th>\n",
              "      <th>gender</th>\n",
              "      <th>gender:confidence</th>\n",
              "      <th>profile_yn</th>\n",
              "    </tr>\n",
              "  </thead>\n",
              "  <tbody>\n",
              "    <tr>\n",
              "      <th>0</th>\n",
              "      <td>i sing my own rhythm.</td>\n",
              "      <td>Robbie E Responds To Critics After Win Against...</td>\n",
              "      <td>male</td>\n",
              "      <td>1.0000</td>\n",
              "      <td>yes</td>\n",
              "    </tr>\n",
              "    <tr>\n",
              "      <th>1</th>\n",
              "      <td>I'm the author of novels filled with family dr...</td>\n",
              "      <td>ÛÏIt felt like they were my friends and I was...</td>\n",
              "      <td>male</td>\n",
              "      <td>1.0000</td>\n",
              "      <td>yes</td>\n",
              "    </tr>\n",
              "    <tr>\n",
              "      <th>2</th>\n",
              "      <td>louis whining and squealing and all</td>\n",
              "      <td>i absolutely adore when louis starts the songs...</td>\n",
              "      <td>male</td>\n",
              "      <td>0.6625</td>\n",
              "      <td>yes</td>\n",
              "    </tr>\n",
              "    <tr>\n",
              "      <th>3</th>\n",
              "      <td>Mobile guy.  49ers, Shazam, Google, Kleiner Pe...</td>\n",
              "      <td>Hi @JordanSpieth - Looking at the url - do you...</td>\n",
              "      <td>male</td>\n",
              "      <td>1.0000</td>\n",
              "      <td>yes</td>\n",
              "    </tr>\n",
              "    <tr>\n",
              "      <th>4</th>\n",
              "      <td>Ricky Wilson The Best FRONTMAN/Kaiser Chiefs T...</td>\n",
              "      <td>Watching Neighbours on Sky+ catching up with t...</td>\n",
              "      <td>female</td>\n",
              "      <td>1.0000</td>\n",
              "      <td>yes</td>\n",
              "    </tr>\n",
              "    <tr>\n",
              "      <th>...</th>\n",
              "      <td>...</td>\n",
              "      <td>...</td>\n",
              "      <td>...</td>\n",
              "      <td>...</td>\n",
              "      <td>...</td>\n",
              "    </tr>\n",
              "    <tr>\n",
              "      <th>18928</th>\n",
              "      <td>(rp)</td>\n",
              "      <td>@lookupondeath ...Fine, and I'll drink tea too...</td>\n",
              "      <td>female</td>\n",
              "      <td>1.0000</td>\n",
              "      <td>yes</td>\n",
              "    </tr>\n",
              "    <tr>\n",
              "      <th>18929</th>\n",
              "      <td>Whatever you like, it's not a problem at all. ...</td>\n",
              "      <td>Greg Hardy you a good player and all but don't...</td>\n",
              "      <td>male</td>\n",
              "      <td>1.0000</td>\n",
              "      <td>yes</td>\n",
              "    </tr>\n",
              "    <tr>\n",
              "      <th>18930</th>\n",
              "      <td>#TeamBarcelona ..You look lost so you should f...</td>\n",
              "      <td>You can miss people and still never want to se...</td>\n",
              "      <td>male</td>\n",
              "      <td>1.0000</td>\n",
              "      <td>yes</td>\n",
              "    </tr>\n",
              "    <tr>\n",
              "      <th>18931</th>\n",
              "      <td>Anti-statist; I homeschool my kids. Aspiring t...</td>\n",
              "      <td>@bitemyapp i had noticed your tendency to pee ...</td>\n",
              "      <td>female</td>\n",
              "      <td>0.8489</td>\n",
              "      <td>yes</td>\n",
              "    </tr>\n",
              "    <tr>\n",
              "      <th>18932</th>\n",
              "      <td>Teamwork makes the dream work.</td>\n",
              "      <td>I think for my APUSH creative project I'm goin...</td>\n",
              "      <td>female</td>\n",
              "      <td>1.0000</td>\n",
              "      <td>yes</td>\n",
              "    </tr>\n",
              "  </tbody>\n",
              "</table>\n",
              "<p>18933 rows × 5 columns</p>\n",
              "</div>\n",
              "      <button class=\"colab-df-convert\" onclick=\"convertToInteractive('df-5fa1c3e2-c73d-4821-8c6e-eaa6424dbb78')\"\n",
              "              title=\"Convert this dataframe to an interactive table.\"\n",
              "              style=\"display:none;\">\n",
              "        \n",
              "  <svg xmlns=\"http://www.w3.org/2000/svg\" height=\"24px\"viewBox=\"0 0 24 24\"\n",
              "       width=\"24px\">\n",
              "    <path d=\"M0 0h24v24H0V0z\" fill=\"none\"/>\n",
              "    <path d=\"M18.56 5.44l.94 2.06.94-2.06 2.06-.94-2.06-.94-.94-2.06-.94 2.06-2.06.94zm-11 1L8.5 8.5l.94-2.06 2.06-.94-2.06-.94L8.5 2.5l-.94 2.06-2.06.94zm10 10l.94 2.06.94-2.06 2.06-.94-2.06-.94-.94-2.06-.94 2.06-2.06.94z\"/><path d=\"M17.41 7.96l-1.37-1.37c-.4-.4-.92-.59-1.43-.59-.52 0-1.04.2-1.43.59L10.3 9.45l-7.72 7.72c-.78.78-.78 2.05 0 2.83L4 21.41c.39.39.9.59 1.41.59.51 0 1.02-.2 1.41-.59l7.78-7.78 2.81-2.81c.8-.78.8-2.07 0-2.86zM5.41 20L4 18.59l7.72-7.72 1.47 1.35L5.41 20z\"/>\n",
              "  </svg>\n",
              "      </button>\n",
              "      \n",
              "  <style>\n",
              "    .colab-df-container {\n",
              "      display:flex;\n",
              "      flex-wrap:wrap;\n",
              "      gap: 12px;\n",
              "    }\n",
              "\n",
              "    .colab-df-convert {\n",
              "      background-color: #E8F0FE;\n",
              "      border: none;\n",
              "      border-radius: 50%;\n",
              "      cursor: pointer;\n",
              "      display: none;\n",
              "      fill: #1967D2;\n",
              "      height: 32px;\n",
              "      padding: 0 0 0 0;\n",
              "      width: 32px;\n",
              "    }\n",
              "\n",
              "    .colab-df-convert:hover {\n",
              "      background-color: #E2EBFA;\n",
              "      box-shadow: 0px 1px 2px rgba(60, 64, 67, 0.3), 0px 1px 3px 1px rgba(60, 64, 67, 0.15);\n",
              "      fill: #174EA6;\n",
              "    }\n",
              "\n",
              "    [theme=dark] .colab-df-convert {\n",
              "      background-color: #3B4455;\n",
              "      fill: #D2E3FC;\n",
              "    }\n",
              "\n",
              "    [theme=dark] .colab-df-convert:hover {\n",
              "      background-color: #434B5C;\n",
              "      box-shadow: 0px 1px 3px 1px rgba(0, 0, 0, 0.15);\n",
              "      filter: drop-shadow(0px 1px 2px rgba(0, 0, 0, 0.3));\n",
              "      fill: #FFFFFF;\n",
              "    }\n",
              "  </style>\n",
              "\n",
              "      <script>\n",
              "        const buttonEl =\n",
              "          document.querySelector('#df-5fa1c3e2-c73d-4821-8c6e-eaa6424dbb78 button.colab-df-convert');\n",
              "        buttonEl.style.display =\n",
              "          google.colab.kernel.accessAllowed ? 'block' : 'none';\n",
              "\n",
              "        async function convertToInteractive(key) {\n",
              "          const element = document.querySelector('#df-5fa1c3e2-c73d-4821-8c6e-eaa6424dbb78');\n",
              "          const dataTable =\n",
              "            await google.colab.kernel.invokeFunction('convertToInteractive',\n",
              "                                                     [key], {});\n",
              "          if (!dataTable) return;\n",
              "\n",
              "          const docLinkHtml = 'Like what you see? Visit the ' +\n",
              "            '<a target=\"_blank\" href=https://colab.research.google.com/notebooks/data_table.ipynb>data table notebook</a>'\n",
              "            + ' to learn more about interactive tables.';\n",
              "          element.innerHTML = '';\n",
              "          dataTable['output_type'] = 'display_data';\n",
              "          await google.colab.output.renderOutput(dataTable, element);\n",
              "          const docLink = document.createElement('div');\n",
              "          docLink.innerHTML = docLinkHtml;\n",
              "          element.appendChild(docLink);\n",
              "        }\n",
              "      </script>\n",
              "    </div>\n",
              "  </div>\n",
              "  "
            ]
          },
          "metadata": {},
          "execution_count": 7
        }
      ]
    },
    {
      "cell_type": "code",
      "source": [
        "data.dropna(subset=['gender'], inplace=True)"
      ],
      "metadata": {
        "id": "_QgNsdWD2zDd"
      },
      "execution_count": 8,
      "outputs": []
    },
    {
      "cell_type": "code",
      "source": [
        "## Map gender values --> male:0 women:1 brand:2\n",
        "data = data.replace({'male': 0, \"female\":1, \"brand\": 2})\n",
        "data['gender'] = data['gender'].astype(int)\n",
        "data"
      ],
      "metadata": {
        "id": "abLNyQEsfLhK",
        "colab": {
          "base_uri": "https://localhost:8080/",
          "height": 424
        },
        "outputId": "c4e303ce-db19-4bdc-9ab3-a64ce848002c"
      },
      "execution_count": 9,
      "outputs": [
        {
          "output_type": "execute_result",
          "data": {
            "text/plain": [
              "                                             description  \\\n",
              "0                                  i sing my own rhythm.   \n",
              "1      I'm the author of novels filled with family dr...   \n",
              "2                    louis whining and squealing and all   \n",
              "3      Mobile guy.  49ers, Shazam, Google, Kleiner Pe...   \n",
              "4      Ricky Wilson The Best FRONTMAN/Kaiser Chiefs T...   \n",
              "...                                                  ...   \n",
              "20045                                               (rp)   \n",
              "20046  Whatever you like, it's not a problem at all. ...   \n",
              "20047  #TeamBarcelona ..You look lost so you should f...   \n",
              "20048  Anti-statist; I homeschool my kids. Aspiring t...   \n",
              "20049                     Teamwork makes the dream work.   \n",
              "\n",
              "                                                    text  gender  \\\n",
              "0      Robbie E Responds To Critics After Win Against...       0   \n",
              "1      ÛÏIt felt like they were my friends and I was...       0   \n",
              "2      i absolutely adore when louis starts the songs...       0   \n",
              "3      Hi @JordanSpieth - Looking at the url - do you...       0   \n",
              "4      Watching Neighbours on Sky+ catching up with t...       1   \n",
              "...                                                  ...     ...   \n",
              "20045  @lookupondeath ...Fine, and I'll drink tea too...       1   \n",
              "20046  Greg Hardy you a good player and all but don't...       0   \n",
              "20047  You can miss people and still never want to se...       0   \n",
              "20048  @bitemyapp i had noticed your tendency to pee ...       1   \n",
              "20049  I think for my APUSH creative project I'm goin...       1   \n",
              "\n",
              "       gender:confidence profile_yn  \n",
              "0                 1.0000        yes  \n",
              "1                 1.0000        yes  \n",
              "2                 0.6625        yes  \n",
              "3                 1.0000        yes  \n",
              "4                 1.0000        yes  \n",
              "...                  ...        ...  \n",
              "20045             1.0000        yes  \n",
              "20046             1.0000        yes  \n",
              "20047             1.0000        yes  \n",
              "20048             0.8489        yes  \n",
              "20049             1.0000        yes  \n",
              "\n",
              "[18836 rows x 5 columns]"
            ],
            "text/html": [
              "\n",
              "  <div id=\"df-f6839fd2-fbca-4b1e-b966-b62da6971058\">\n",
              "    <div class=\"colab-df-container\">\n",
              "      <div>\n",
              "<style scoped>\n",
              "    .dataframe tbody tr th:only-of-type {\n",
              "        vertical-align: middle;\n",
              "    }\n",
              "\n",
              "    .dataframe tbody tr th {\n",
              "        vertical-align: top;\n",
              "    }\n",
              "\n",
              "    .dataframe thead th {\n",
              "        text-align: right;\n",
              "    }\n",
              "</style>\n",
              "<table border=\"1\" class=\"dataframe\">\n",
              "  <thead>\n",
              "    <tr style=\"text-align: right;\">\n",
              "      <th></th>\n",
              "      <th>description</th>\n",
              "      <th>text</th>\n",
              "      <th>gender</th>\n",
              "      <th>gender:confidence</th>\n",
              "      <th>profile_yn</th>\n",
              "    </tr>\n",
              "  </thead>\n",
              "  <tbody>\n",
              "    <tr>\n",
              "      <th>0</th>\n",
              "      <td>i sing my own rhythm.</td>\n",
              "      <td>Robbie E Responds To Critics After Win Against...</td>\n",
              "      <td>0</td>\n",
              "      <td>1.0000</td>\n",
              "      <td>yes</td>\n",
              "    </tr>\n",
              "    <tr>\n",
              "      <th>1</th>\n",
              "      <td>I'm the author of novels filled with family dr...</td>\n",
              "      <td>ÛÏIt felt like they were my friends and I was...</td>\n",
              "      <td>0</td>\n",
              "      <td>1.0000</td>\n",
              "      <td>yes</td>\n",
              "    </tr>\n",
              "    <tr>\n",
              "      <th>2</th>\n",
              "      <td>louis whining and squealing and all</td>\n",
              "      <td>i absolutely adore when louis starts the songs...</td>\n",
              "      <td>0</td>\n",
              "      <td>0.6625</td>\n",
              "      <td>yes</td>\n",
              "    </tr>\n",
              "    <tr>\n",
              "      <th>3</th>\n",
              "      <td>Mobile guy.  49ers, Shazam, Google, Kleiner Pe...</td>\n",
              "      <td>Hi @JordanSpieth - Looking at the url - do you...</td>\n",
              "      <td>0</td>\n",
              "      <td>1.0000</td>\n",
              "      <td>yes</td>\n",
              "    </tr>\n",
              "    <tr>\n",
              "      <th>4</th>\n",
              "      <td>Ricky Wilson The Best FRONTMAN/Kaiser Chiefs T...</td>\n",
              "      <td>Watching Neighbours on Sky+ catching up with t...</td>\n",
              "      <td>1</td>\n",
              "      <td>1.0000</td>\n",
              "      <td>yes</td>\n",
              "    </tr>\n",
              "    <tr>\n",
              "      <th>...</th>\n",
              "      <td>...</td>\n",
              "      <td>...</td>\n",
              "      <td>...</td>\n",
              "      <td>...</td>\n",
              "      <td>...</td>\n",
              "    </tr>\n",
              "    <tr>\n",
              "      <th>20045</th>\n",
              "      <td>(rp)</td>\n",
              "      <td>@lookupondeath ...Fine, and I'll drink tea too...</td>\n",
              "      <td>1</td>\n",
              "      <td>1.0000</td>\n",
              "      <td>yes</td>\n",
              "    </tr>\n",
              "    <tr>\n",
              "      <th>20046</th>\n",
              "      <td>Whatever you like, it's not a problem at all. ...</td>\n",
              "      <td>Greg Hardy you a good player and all but don't...</td>\n",
              "      <td>0</td>\n",
              "      <td>1.0000</td>\n",
              "      <td>yes</td>\n",
              "    </tr>\n",
              "    <tr>\n",
              "      <th>20047</th>\n",
              "      <td>#TeamBarcelona ..You look lost so you should f...</td>\n",
              "      <td>You can miss people and still never want to se...</td>\n",
              "      <td>0</td>\n",
              "      <td>1.0000</td>\n",
              "      <td>yes</td>\n",
              "    </tr>\n",
              "    <tr>\n",
              "      <th>20048</th>\n",
              "      <td>Anti-statist; I homeschool my kids. Aspiring t...</td>\n",
              "      <td>@bitemyapp i had noticed your tendency to pee ...</td>\n",
              "      <td>1</td>\n",
              "      <td>0.8489</td>\n",
              "      <td>yes</td>\n",
              "    </tr>\n",
              "    <tr>\n",
              "      <th>20049</th>\n",
              "      <td>Teamwork makes the dream work.</td>\n",
              "      <td>I think for my APUSH creative project I'm goin...</td>\n",
              "      <td>1</td>\n",
              "      <td>1.0000</td>\n",
              "      <td>yes</td>\n",
              "    </tr>\n",
              "  </tbody>\n",
              "</table>\n",
              "<p>18836 rows × 5 columns</p>\n",
              "</div>\n",
              "      <button class=\"colab-df-convert\" onclick=\"convertToInteractive('df-f6839fd2-fbca-4b1e-b966-b62da6971058')\"\n",
              "              title=\"Convert this dataframe to an interactive table.\"\n",
              "              style=\"display:none;\">\n",
              "        \n",
              "  <svg xmlns=\"http://www.w3.org/2000/svg\" height=\"24px\"viewBox=\"0 0 24 24\"\n",
              "       width=\"24px\">\n",
              "    <path d=\"M0 0h24v24H0V0z\" fill=\"none\"/>\n",
              "    <path d=\"M18.56 5.44l.94 2.06.94-2.06 2.06-.94-2.06-.94-.94-2.06-.94 2.06-2.06.94zm-11 1L8.5 8.5l.94-2.06 2.06-.94-2.06-.94L8.5 2.5l-.94 2.06-2.06.94zm10 10l.94 2.06.94-2.06 2.06-.94-2.06-.94-.94-2.06-.94 2.06-2.06.94z\"/><path d=\"M17.41 7.96l-1.37-1.37c-.4-.4-.92-.59-1.43-.59-.52 0-1.04.2-1.43.59L10.3 9.45l-7.72 7.72c-.78.78-.78 2.05 0 2.83L4 21.41c.39.39.9.59 1.41.59.51 0 1.02-.2 1.41-.59l7.78-7.78 2.81-2.81c.8-.78.8-2.07 0-2.86zM5.41 20L4 18.59l7.72-7.72 1.47 1.35L5.41 20z\"/>\n",
              "  </svg>\n",
              "      </button>\n",
              "      \n",
              "  <style>\n",
              "    .colab-df-container {\n",
              "      display:flex;\n",
              "      flex-wrap:wrap;\n",
              "      gap: 12px;\n",
              "    }\n",
              "\n",
              "    .colab-df-convert {\n",
              "      background-color: #E8F0FE;\n",
              "      border: none;\n",
              "      border-radius: 50%;\n",
              "      cursor: pointer;\n",
              "      display: none;\n",
              "      fill: #1967D2;\n",
              "      height: 32px;\n",
              "      padding: 0 0 0 0;\n",
              "      width: 32px;\n",
              "    }\n",
              "\n",
              "    .colab-df-convert:hover {\n",
              "      background-color: #E2EBFA;\n",
              "      box-shadow: 0px 1px 2px rgba(60, 64, 67, 0.3), 0px 1px 3px 1px rgba(60, 64, 67, 0.15);\n",
              "      fill: #174EA6;\n",
              "    }\n",
              "\n",
              "    [theme=dark] .colab-df-convert {\n",
              "      background-color: #3B4455;\n",
              "      fill: #D2E3FC;\n",
              "    }\n",
              "\n",
              "    [theme=dark] .colab-df-convert:hover {\n",
              "      background-color: #434B5C;\n",
              "      box-shadow: 0px 1px 3px 1px rgba(0, 0, 0, 0.15);\n",
              "      filter: drop-shadow(0px 1px 2px rgba(0, 0, 0, 0.3));\n",
              "      fill: #FFFFFF;\n",
              "    }\n",
              "  </style>\n",
              "\n",
              "      <script>\n",
              "        const buttonEl =\n",
              "          document.querySelector('#df-f6839fd2-fbca-4b1e-b966-b62da6971058 button.colab-df-convert');\n",
              "        buttonEl.style.display =\n",
              "          google.colab.kernel.accessAllowed ? 'block' : 'none';\n",
              "\n",
              "        async function convertToInteractive(key) {\n",
              "          const element = document.querySelector('#df-f6839fd2-fbca-4b1e-b966-b62da6971058');\n",
              "          const dataTable =\n",
              "            await google.colab.kernel.invokeFunction('convertToInteractive',\n",
              "                                                     [key], {});\n",
              "          if (!dataTable) return;\n",
              "\n",
              "          const docLinkHtml = 'Like what you see? Visit the ' +\n",
              "            '<a target=\"_blank\" href=https://colab.research.google.com/notebooks/data_table.ipynb>data table notebook</a>'\n",
              "            + ' to learn more about interactive tables.';\n",
              "          element.innerHTML = '';\n",
              "          dataTable['output_type'] = 'display_data';\n",
              "          await google.colab.output.renderOutput(dataTable, element);\n",
              "          const docLink = document.createElement('div');\n",
              "          docLink.innerHTML = docLinkHtml;\n",
              "          element.appendChild(docLink);\n",
              "        }\n",
              "      </script>\n",
              "    </div>\n",
              "  </div>\n",
              "  "
            ]
          },
          "metadata": {},
          "execution_count": 9
        }
      ]
    },
    {
      "cell_type": "code",
      "source": [
        "## Number of rows with less than 66% Gender confidence\n",
        "\n",
        "less = data.apply(lambda x: 1 if x[\"gender:confidence\"] < 0.66 else 0, axis=1)\n",
        "less.sum()"
      ],
      "metadata": {
        "colab": {
          "base_uri": "https://localhost:8080/"
        },
        "id": "G7nkfNZ6ue26",
        "outputId": "6183ea98-95b9-49da-b45c-e3bb5948f0a6"
      },
      "execution_count": 10,
      "outputs": [
        {
          "output_type": "execute_result",
          "data": {
            "text/plain": [
              "1764"
            ]
          },
          "metadata": {},
          "execution_count": 10
        }
      ]
    },
    {
      "cell_type": "code",
      "source": [
        "## We can drop rows with gender confidence less than 0.65 (1424 out of 20050 is about 7 percent of total amount) and then drop the column.\n",
        "data = data[data[\"gender:confidence\"] > 0.65]\n",
        "data.drop(columns = [\"gender:confidence\"], inplace=True)"
      ],
      "metadata": {
        "id": "L7t1yaqRxKj8"
      },
      "execution_count": 11,
      "outputs": []
    },
    {
      "cell_type": "code",
      "source": [
        "data.reset_index(drop=True, inplace=True)"
      ],
      "metadata": {
        "id": "YzpykMxxyUgY"
      },
      "execution_count": 12,
      "outputs": []
    },
    {
      "cell_type": "code",
      "source": [
        "drop_items_idx = data[data['profile_yn'] == 'no'].index\n",
        "data.drop (index = drop_items_idx, inplace = True)\n",
        "print (data['profile_yn'].value_counts())\n",
        "data.drop (columns = ['profile_yn'], inplace = True)"
      ],
      "metadata": {
        "colab": {
          "base_uri": "https://localhost:8080/"
        },
        "id": "QV08pU57BaR4",
        "outputId": "90860883-ba25-4955-fa0f-06ce3ea2e4dc"
      },
      "execution_count": 13,
      "outputs": [
        {
          "output_type": "stream",
          "name": "stdout",
          "text": [
            "yes    17801\n",
            "Name: profile_yn, dtype: int64\n"
          ]
        }
      ]
    },
    {
      "cell_type": "markdown",
      "source": [
        "### EDA - Data summary"
      ],
      "metadata": {
        "id": "dfcYd-Vhfv65"
      }
    },
    {
      "cell_type": "code",
      "source": [
        "# Data Summary \n",
        "print (data['gender'].value_counts())\n",
        "data.info()"
      ],
      "metadata": {
        "colab": {
          "base_uri": "https://localhost:8080/"
        },
        "id": "l4q9bQhB2SLV",
        "outputId": "a188f1c2-8acd-4d12-d3d3-7a0211001f4f"
      },
      "execution_count": 14,
      "outputs": [
        {
          "output_type": "stream",
          "name": "stdout",
          "text": [
            "1    6426\n",
            "0    5831\n",
            "2    5544\n",
            "Name: gender, dtype: int64\n",
            "<class 'pandas.core.frame.DataFrame'>\n",
            "Int64Index: 17801 entries, 0 to 17800\n",
            "Data columns (total 3 columns):\n",
            " #   Column       Non-Null Count  Dtype \n",
            "---  ------       --------------  ----- \n",
            " 0   description  14696 non-null  object\n",
            " 1   text         17801 non-null  object\n",
            " 2   gender       17801 non-null  int64 \n",
            "dtypes: int64(1), object(2)\n",
            "memory usage: 556.3+ KB\n"
          ]
        }
      ]
    },
    {
      "cell_type": "code",
      "source": [
        "## Gender value count\n",
        "\n",
        "ax = sns.set_theme(style=\"whitegrid\")\n",
        "ax = sns.countplot(x=data[\"gender\"])\n",
        "ax.set(xlabel='Gender',\n",
        "       ylabel='Count',\n",
        "       title='Gender value count [ 0:male, 1:female, 2:brand ]')\n",
        "plt.show()"
      ],
      "metadata": {
        "colab": {
          "base_uri": "https://localhost:8080/",
          "height": 301
        },
        "id": "4j06Ir2VBkrI",
        "outputId": "1e079ba2-f017-4fd4-a010-efe01466ba04"
      },
      "execution_count": 15,
      "outputs": [
        {
          "output_type": "display_data",
          "data": {
            "text/plain": [
              "<Figure size 432x288 with 1 Axes>"
            ],
            "image/png": "[encoded data removed]"
          },
          "metadata": {}
        }
      ]
    },
    {
      "cell_type": "code",
      "source": [
        "data.isna().sum()"
      ],
      "metadata": {
        "colab": {
          "base_uri": "https://localhost:8080/"
        },
        "id": "Ye0awmLAB5N8",
        "outputId": "8deb1f02-7882-446a-e3d7-b71ce2c2abc6"
      },
      "execution_count": 16,
      "outputs": [
        {
          "output_type": "execute_result",
          "data": {
            "text/plain": [
              "description    3105\n",
              "text              0\n",
              "gender            0\n",
              "dtype: int64"
            ]
          },
          "metadata": {},
          "execution_count": 16
        }
      ]
    },
    {
      "cell_type": "markdown",
      "source": [
        "## **Text Processing**"
      ],
      "metadata": {
        "id": "FqRTLbXy8pj1"
      }
    },
    {
      "cell_type": "code",
      "source": [
        "nltk.download('stopwords')\n",
        "nltk.download('wordnet')\n",
        "stopword = nltk.corpus.stopwords.words('english')\n",
        "nltk.download('omw-1.4')\n",
        "lemmatizer = nltk.stem.WordNetLemmatizer()"
      ],
      "metadata": {
        "colab": {
          "base_uri": "https://localhost:8080/"
        },
        "id": "nu4pjYHtBMV1",
        "outputId": "020e4a78-884a-4a31-dcb5-236f3ce17ac4"
      },
      "execution_count": 17,
      "outputs": [
        {
          "output_type": "stream",
          "name": "stderr",
          "text": [
            "[nltk_data] Downloading package stopwords to /root/nltk_data...\n",
            "[nltk_data]   Package stopwords is already up-to-date!\n",
            "[nltk_data] Downloading package wordnet to /root/nltk_data...\n",
            "[nltk_data]   Package wordnet is already up-to-date!\n",
            "[nltk_data] Downloading package omw-1.4 to /root/nltk_data...\n",
            "[nltk_data]   Package omw-1.4 is already up-to-date!\n"
          ]
        }
      ]
    },
    {
      "cell_type": "markdown",
      "source": [
        "### Text Cleaning"
      ],
      "metadata": {
        "id": "2GWvI97rlOYG"
      }
    },
    {
      "cell_type": "code",
      "source": [
        "# Handling Null values\n",
        "data[\"text\"].fillna(\"\", inplace=True)\n",
        "data[\"description\"].fillna(\"\",inplace=True)"
      ],
      "metadata": {
        "id": "fo9TG9uW7qQ5"
      },
      "execution_count": 18,
      "outputs": []
    },
    {
      "cell_type": "markdown",
      "source": [
        "Concat text and description columns to one column for better cleaning as a plain text!"
      ],
      "metadata": {
        "id": "CRw7JuilCoIC"
      }
    },
    {
      "cell_type": "code",
      "source": [
        "# Letter Casing\n",
        "data[\"text\"] = data[\"text\"].apply(lambda s: s.lower())\n",
        "data[\"description\"] = data[\"description\"].apply(lambda s: s.lower())"
      ],
      "metadata": {
        "id": "_62ERa5OJCmB"
      },
      "execution_count": 19,
      "outputs": []
    },
    {
      "cell_type": "code",
      "source": [
        "data['text_description'] = data['text'].str.cat(data['description'], sep=' ')"
      ],
      "metadata": {
        "id": "EQz38L_BCNWd"
      },
      "execution_count": 20,
      "outputs": []
    },
    {
      "cell_type": "code",
      "source": [
        "clean_data = data[['text_description','gender']]"
      ],
      "metadata": {
        "id": "4RcW26shCNS6"
      },
      "execution_count": 21,
      "outputs": []
    },
    {
      "cell_type": "code",
      "source": [
        "clean_data"
      ],
      "metadata": {
        "colab": {
          "base_uri": "https://localhost:8080/",
          "height": 424
        },
        "id": "8nYbVhBpCNQK",
        "outputId": "dc2dcef2-e799-4c2e-98d1-807f32bfb63b"
      },
      "execution_count": 22,
      "outputs": [
        {
          "output_type": "execute_result",
          "data": {
            "text/plain": [
              "                                        text_description  gender\n",
              "0      robbie e responds to critics after win against...       0\n",
              "1      ûïit felt like they were my friends and i was...       0\n",
              "2      i absolutely adore when louis starts the songs...       0\n",
              "3      hi @jordanspieth - looking at the url - do you...       0\n",
              "4      watching neighbours on sky+ catching up with t...       1\n",
              "...                                                  ...     ...\n",
              "17796  @lookupondeath ...fine, and i'll drink tea too...       1\n",
              "17797  greg hardy you a good player and all but don't...       0\n",
              "17798  you can miss people and still never want to se...       0\n",
              "17799  @bitemyapp i had noticed your tendency to pee ...       1\n",
              "17800  i think for my apush creative project i'm goin...       1\n",
              "\n",
              "[17801 rows x 2 columns]"
            ],
            "text/html": [
              "\n",
              "  <div id=\"df-51c70300-3f9d-48ca-8488-e76008d99aab\">\n",
              "    <div class=\"colab-df-container\">\n",
              "      <div>\n",
              "<style scoped>\n",
              "    .dataframe tbody tr th:only-of-type {\n",
              "        vertical-align: middle;\n",
              "    }\n",
              "\n",
              "    .dataframe tbody tr th {\n",
              "        vertical-align: top;\n",
              "    }\n",
              "\n",
              "    .dataframe thead th {\n",
              "        text-align: right;\n",
              "    }\n",
              "</style>\n",
              "<table border=\"1\" class=\"dataframe\">\n",
              "  <thead>\n",
              "    <tr style=\"text-align: right;\">\n",
              "      <th></th>\n",
              "      <th>text_description</th>\n",
              "      <th>gender</th>\n",
              "    </tr>\n",
              "  </thead>\n",
              "  <tbody>\n",
              "    <tr>\n",
              "      <th>0</th>\n",
              "      <td>robbie e responds to critics after win against...</td>\n",
              "      <td>0</td>\n",
              "    </tr>\n",
              "    <tr>\n",
              "      <th>1</th>\n",
              "      <td>ûïit felt like they were my friends and i was...</td>\n",
              "      <td>0</td>\n",
              "    </tr>\n",
              "    <tr>\n",
              "      <th>2</th>\n",
              "      <td>i absolutely adore when louis starts the songs...</td>\n",
              "      <td>0</td>\n",
              "    </tr>\n",
              "    <tr>\n",
              "      <th>3</th>\n",
              "      <td>hi @jordanspieth - looking at the url - do you...</td>\n",
              "      <td>0</td>\n",
              "    </tr>\n",
              "    <tr>\n",
              "      <th>4</th>\n",
              "      <td>watching neighbours on sky+ catching up with t...</td>\n",
              "      <td>1</td>\n",
              "    </tr>\n",
              "    <tr>\n",
              "      <th>...</th>\n",
              "      <td>...</td>\n",
              "      <td>...</td>\n",
              "    </tr>\n",
              "    <tr>\n",
              "      <th>17796</th>\n",
              "      <td>@lookupondeath ...fine, and i'll drink tea too...</td>\n",
              "      <td>1</td>\n",
              "    </tr>\n",
              "    <tr>\n",
              "      <th>17797</th>\n",
              "      <td>greg hardy you a good player and all but don't...</td>\n",
              "      <td>0</td>\n",
              "    </tr>\n",
              "    <tr>\n",
              "      <th>17798</th>\n",
              "      <td>you can miss people and still never want to se...</td>\n",
              "      <td>0</td>\n",
              "    </tr>\n",
              "    <tr>\n",
              "      <th>17799</th>\n",
              "      <td>@bitemyapp i had noticed your tendency to pee ...</td>\n",
              "      <td>1</td>\n",
              "    </tr>\n",
              "    <tr>\n",
              "      <th>17800</th>\n",
              "      <td>i think for my apush creative project i'm goin...</td>\n",
              "      <td>1</td>\n",
              "    </tr>\n",
              "  </tbody>\n",
              "</table>\n",
              "<p>17801 rows × 2 columns</p>\n",
              "</div>\n",
              "      <button class=\"colab-df-convert\" onclick=\"convertToInteractive('df-51c70300-3f9d-48ca-8488-e76008d99aab')\"\n",
              "              title=\"Convert this dataframe to an interactive table.\"\n",
              "              style=\"display:none;\">\n",
              "        \n",
              "  <svg xmlns=\"http://www.w3.org/2000/svg\" height=\"24px\"viewBox=\"0 0 24 24\"\n",
              "       width=\"24px\">\n",
              "    <path d=\"M0 0h24v24H0V0z\" fill=\"none\"/>\n",
              "    <path d=\"M18.56 5.44l.94 2.06.94-2.06 2.06-.94-2.06-.94-.94-2.06-.94 2.06-2.06.94zm-11 1L8.5 8.5l.94-2.06 2.06-.94-2.06-.94L8.5 2.5l-.94 2.06-2.06.94zm10 10l.94 2.06.94-2.06 2.06-.94-2.06-.94-.94-2.06-.94 2.06-2.06.94z\"/><path d=\"M17.41 7.96l-1.37-1.37c-.4-.4-.92-.59-1.43-.59-.52 0-1.04.2-1.43.59L10.3 9.45l-7.72 7.72c-.78.78-.78 2.05 0 2.83L4 21.41c.39.39.9.59 1.41.59.51 0 1.02-.2 1.41-.59l7.78-7.78 2.81-2.81c.8-.78.8-2.07 0-2.86zM5.41 20L4 18.59l7.72-7.72 1.47 1.35L5.41 20z\"/>\n",
              "  </svg>\n",
              "      </button>\n",
              "      \n",
              "  <style>\n",
              "    .colab-df-container {\n",
              "      display:flex;\n",
              "      flex-wrap:wrap;\n",
              "      gap: 12px;\n",
              "    }\n",
              "\n",
              "    .colab-df-convert {\n",
              "      background-color: #E8F0FE;\n",
              "      border: none;\n",
              "      border-radius: 50%;\n",
              "      cursor: pointer;\n",
              "      display: none;\n",
              "      fill: #1967D2;\n",
              "      height: 32px;\n",
              "      padding: 0 0 0 0;\n",
              "      width: 32px;\n",
              "    }\n",
              "\n",
              "    .colab-df-convert:hover {\n",
              "      background-color: #E2EBFA;\n",
              "      box-shadow: 0px 1px 2px rgba(60, 64, 67, 0.3), 0px 1px 3px 1px rgba(60, 64, 67, 0.15);\n",
              "      fill: #174EA6;\n",
              "    }\n",
              "\n",
              "    [theme=dark] .colab-df-convert {\n",
              "      background-color: #3B4455;\n",
              "      fill: #D2E3FC;\n",
              "    }\n",
              "\n",
              "    [theme=dark] .colab-df-convert:hover {\n",
              "      background-color: #434B5C;\n",
              "      box-shadow: 0px 1px 3px 1px rgba(0, 0, 0, 0.15);\n",
              "      filter: drop-shadow(0px 1px 2px rgba(0, 0, 0, 0.3));\n",
              "      fill: #FFFFFF;\n",
              "    }\n",
              "  </style>\n",
              "\n",
              "      <script>\n",
              "        const buttonEl =\n",
              "          document.querySelector('#df-51c70300-3f9d-48ca-8488-e76008d99aab button.colab-df-convert');\n",
              "        buttonEl.style.display =\n",
              "          google.colab.kernel.accessAllowed ? 'block' : 'none';\n",
              "\n",
              "        async function convertToInteractive(key) {\n",
              "          const element = document.querySelector('#df-51c70300-3f9d-48ca-8488-e76008d99aab');\n",
              "          const dataTable =\n",
              "            await google.colab.kernel.invokeFunction('convertToInteractive',\n",
              "                                                     [key], {});\n",
              "          if (!dataTable) return;\n",
              "\n",
              "          const docLinkHtml = 'Like what you see? Visit the ' +\n",
              "            '<a target=\"_blank\" href=https://colab.research.google.com/notebooks/data_table.ipynb>data table notebook</a>'\n",
              "            + ' to learn more about interactive tables.';\n",
              "          element.innerHTML = '';\n",
              "          dataTable['output_type'] = 'display_data';\n",
              "          await google.colab.output.renderOutput(dataTable, element);\n",
              "          const docLink = document.createElement('div');\n",
              "          docLink.innerHTML = docLinkHtml;\n",
              "          element.appendChild(docLink);\n",
              "        }\n",
              "      </script>\n",
              "    </div>\n",
              "  </div>\n",
              "  "
            ]
          },
          "metadata": {},
          "execution_count": 22
        }
      ]
    },
    {
      "cell_type": "code",
      "source": [
        "## Remove Hashtags - Mentions - Links\n",
        "\n",
        "def cleaning(s):\n",
        "    s = str(s)\n",
        "    s = s.lower()\n",
        "    s = re.sub(\"\\d+\", \"\", s)\n",
        "    s = re.sub('\\s+',' ',s)\n",
        "    s = re.sub(\"@[A-Za-z0-9_]+\",\"\", s)\n",
        "    s = re.sub(\"#[A-Za-z0-9_]+\",\"\", s)\n",
        "    s = re.sub(\"https://t\\.co/[A-Za-z0-9]+\",\"\", s)\n",
        "    s = re.sub('[!$_]', \"\", s)    \n",
        "    s = s.replace(\",\",\"\")\n",
        "    s = s.replace(\"(\",\"\")\n",
        "    s = s.replace(\")\",\"\")\n",
        "    return s\n",
        "clean_data['text_description'] = [cleaning(s) for s in clean_data['text_description']]"
      ],
      "metadata": {
        "id": "Swaj8TS6CNNJ"
      },
      "execution_count": 23,
      "outputs": []
    },
    {
      "cell_type": "code",
      "source": [
        "## Remove short length words\n",
        "clean_data[\"text_description\"] = clean_data[\"text_description\"].apply(lambda x: ' '.join([w for w in x.split() if len(w) > 3]))"
      ],
      "metadata": {
        "id": "xrRphKD9ZZX9"
      },
      "execution_count": 24,
      "outputs": []
    },
    {
      "cell_type": "code",
      "source": [
        "clean_data.head(10)"
      ],
      "metadata": {
        "colab": {
          "base_uri": "https://localhost:8080/",
          "height": 363
        },
        "id": "ce5WJJRpCNKh",
        "outputId": "9f46069d-3245-4e6e-8f2f-257863cad73a"
      },
      "execution_count": 25,
      "outputs": [
        {
          "output_type": "execute_result",
          "data": {
            "text/plain": [
              "                                    text_description  gender\n",
              "0  robbie responds critics after against eddie ed...       0\n",
              "1  ûïit felt like they were friends living story...       0\n",
              "2  absolutely adore when louis starts songs hits ...       0\n",
              "3  looking don't typically advanced user mobile g...       0\n",
              "4  watching neighbours sky+ catching with neighbs...       1\n",
              "5     seen people train with lamps chairs don't know       1\n",
              "6  thank your patience while take care issue glob...       2\n",
              "7  gala bingo clubs bought å£m: uk's largest high...       0\n",
              "8  defines fangirls/fanboys shippers crazy about ...       1\n",
              "9  just lovely tree this year never seen gorgeous...       1"
            ],
            "text/html": [
              "\n",
              "  <div id=\"df-ae226948-69d8-4928-9d6e-f9a2c6116299\">\n",
              "    <div class=\"colab-df-container\">\n",
              "      <div>\n",
              "<style scoped>\n",
              "    .dataframe tbody tr th:only-of-type {\n",
              "        vertical-align: middle;\n",
              "    }\n",
              "\n",
              "    .dataframe tbody tr th {\n",
              "        vertical-align: top;\n",
              "    }\n",
              "\n",
              "    .dataframe thead th {\n",
              "        text-align: right;\n",
              "    }\n",
              "</style>\n",
              "<table border=\"1\" class=\"dataframe\">\n",
              "  <thead>\n",
              "    <tr style=\"text-align: right;\">\n",
              "      <th></th>\n",
              "      <th>text_description</th>\n",
              "      <th>gender</th>\n",
              "    </tr>\n",
              "  </thead>\n",
              "  <tbody>\n",
              "    <tr>\n",
              "      <th>0</th>\n",
              "      <td>robbie responds critics after against eddie ed...</td>\n",
              "      <td>0</td>\n",
              "    </tr>\n",
              "    <tr>\n",
              "      <th>1</th>\n",
              "      <td>ûïit felt like they were friends living story...</td>\n",
              "      <td>0</td>\n",
              "    </tr>\n",
              "    <tr>\n",
              "      <th>2</th>\n",
              "      <td>absolutely adore when louis starts songs hits ...</td>\n",
              "      <td>0</td>\n",
              "    </tr>\n",
              "    <tr>\n",
              "      <th>3</th>\n",
              "      <td>looking don't typically advanced user mobile g...</td>\n",
              "      <td>0</td>\n",
              "    </tr>\n",
              "    <tr>\n",
              "      <th>4</th>\n",
              "      <td>watching neighbours sky+ catching with neighbs...</td>\n",
              "      <td>1</td>\n",
              "    </tr>\n",
              "    <tr>\n",
              "      <th>5</th>\n",
              "      <td>seen people train with lamps chairs don't know</td>\n",
              "      <td>1</td>\n",
              "    </tr>\n",
              "    <tr>\n",
              "      <th>6</th>\n",
              "      <td>thank your patience while take care issue glob...</td>\n",
              "      <td>2</td>\n",
              "    </tr>\n",
              "    <tr>\n",
              "      <th>7</th>\n",
              "      <td>gala bingo clubs bought å£m: uk's largest high...</td>\n",
              "      <td>0</td>\n",
              "    </tr>\n",
              "    <tr>\n",
              "      <th>8</th>\n",
              "      <td>defines fangirls/fanboys shippers crazy about ...</td>\n",
              "      <td>1</td>\n",
              "    </tr>\n",
              "    <tr>\n",
              "      <th>9</th>\n",
              "      <td>just lovely tree this year never seen gorgeous...</td>\n",
              "      <td>1</td>\n",
              "    </tr>\n",
              "  </tbody>\n",
              "</table>\n",
              "</div>\n",
              "      <button class=\"colab-df-convert\" onclick=\"convertToInteractive('df-ae226948-69d8-4928-9d6e-f9a2c6116299')\"\n",
              "              title=\"Convert this dataframe to an interactive table.\"\n",
              "              style=\"display:none;\">\n",
              "        \n",
              "  <svg xmlns=\"http://www.w3.org/2000/svg\" height=\"24px\"viewBox=\"0 0 24 24\"\n",
              "       width=\"24px\">\n",
              "    <path d=\"M0 0h24v24H0V0z\" fill=\"none\"/>\n",
              "    <path d=\"M18.56 5.44l.94 2.06.94-2.06 2.06-.94-2.06-.94-.94-2.06-.94 2.06-2.06.94zm-11 1L8.5 8.5l.94-2.06 2.06-.94-2.06-.94L8.5 2.5l-.94 2.06-2.06.94zm10 10l.94 2.06.94-2.06 2.06-.94-2.06-.94-.94-2.06-.94 2.06-2.06.94z\"/><path d=\"M17.41 7.96l-1.37-1.37c-.4-.4-.92-.59-1.43-.59-.52 0-1.04.2-1.43.59L10.3 9.45l-7.72 7.72c-.78.78-.78 2.05 0 2.83L4 21.41c.39.39.9.59 1.41.59.51 0 1.02-.2 1.41-.59l7.78-7.78 2.81-2.81c.8-.78.8-2.07 0-2.86zM5.41 20L4 18.59l7.72-7.72 1.47 1.35L5.41 20z\"/>\n",
              "  </svg>\n",
              "      </button>\n",
              "      \n",
              "  <style>\n",
              "    .colab-df-container {\n",
              "      display:flex;\n",
              "      flex-wrap:wrap;\n",
              "      gap: 12px;\n",
              "    }\n",
              "\n",
              "    .colab-df-convert {\n",
              "      background-color: #E8F0FE;\n",
              "      border: none;\n",
              "      border-radius: 50%;\n",
              "      cursor: pointer;\n",
              "      display: none;\n",
              "      fill: #1967D2;\n",
              "      height: 32px;\n",
              "      padding: 0 0 0 0;\n",
              "      width: 32px;\n",
              "    }\n",
              "\n",
              "    .colab-df-convert:hover {\n",
              "      background-color: #E2EBFA;\n",
              "      box-shadow: 0px 1px 2px rgba(60, 64, 67, 0.3), 0px 1px 3px 1px rgba(60, 64, 67, 0.15);\n",
              "      fill: #174EA6;\n",
              "    }\n",
              "\n",
              "    [theme=dark] .colab-df-convert {\n",
              "      background-color: #3B4455;\n",
              "      fill: #D2E3FC;\n",
              "    }\n",
              "\n",
              "    [theme=dark] .colab-df-convert:hover {\n",
              "      background-color: #434B5C;\n",
              "      box-shadow: 0px 1px 3px 1px rgba(0, 0, 0, 0.15);\n",
              "      filter: drop-shadow(0px 1px 2px rgba(0, 0, 0, 0.3));\n",
              "      fill: #FFFFFF;\n",
              "    }\n",
              "  </style>\n",
              "\n",
              "      <script>\n",
              "        const buttonEl =\n",
              "          document.querySelector('#df-ae226948-69d8-4928-9d6e-f9a2c6116299 button.colab-df-convert');\n",
              "        buttonEl.style.display =\n",
              "          google.colab.kernel.accessAllowed ? 'block' : 'none';\n",
              "\n",
              "        async function convertToInteractive(key) {\n",
              "          const element = document.querySelector('#df-ae226948-69d8-4928-9d6e-f9a2c6116299');\n",
              "          const dataTable =\n",
              "            await google.colab.kernel.invokeFunction('convertToInteractive',\n",
              "                                                     [key], {});\n",
              "          if (!dataTable) return;\n",
              "\n",
              "          const docLinkHtml = 'Like what you see? Visit the ' +\n",
              "            '<a target=\"_blank\" href=https://colab.research.google.com/notebooks/data_table.ipynb>data table notebook</a>'\n",
              "            + ' to learn more about interactive tables.';\n",
              "          element.innerHTML = '';\n",
              "          dataTable['output_type'] = 'display_data';\n",
              "          await google.colab.output.renderOutput(dataTable, element);\n",
              "          const docLink = document.createElement('div');\n",
              "          docLink.innerHTML = docLinkHtml;\n",
              "          element.appendChild(docLink);\n",
              "        }\n",
              "      </script>\n",
              "    </div>\n",
              "  </div>\n",
              "  "
            ]
          },
          "metadata": {},
          "execution_count": 25
        }
      ]
    },
    {
      "cell_type": "code",
      "source": [
        "# Word cloud\n",
        "from wordcloud import WordCloud\n",
        "\n",
        "all_words = ' '.join([text for text in clean_data['text_description']])\n",
        "wordcloud = WordCloud(width=800, height=500, random_state=21, max_font_size=110).generate(all_words)\n",
        "\n",
        "plt.figure(figsize=(10,8))\n",
        "plt.imshow(wordcloud)\n",
        "plt.axis('off')\n",
        "plt.show()"
      ],
      "metadata": {
        "colab": {
          "base_uri": "https://localhost:8080/",
          "height": 380
        },
        "id": "_tdV21igpgMl",
        "outputId": "4e8be126-349e-448c-a307-6713e1b05a7e"
      },
      "execution_count": 26,
      "outputs": [
        {
          "output_type": "display_data",
          "data": {
            "text/plain": [
              "<Figure size 720x576 with 1 Axes>"
            ],
            "image/png": "[encoded data removed]"
          },
          "metadata": {}
        }
      ]
    },
    {
      "cell_type": "code",
      "source": [
        "# Tokenizing texts\n",
        "clean_data[\"text_description\"] = clean_data[\"text_description\"].apply(lambda s: TweetTokenizer().tokenize(s))"
      ],
      "metadata": {
        "id": "499aaxealNqY"
      },
      "execution_count": 27,
      "outputs": []
    },
    {
      "cell_type": "code",
      "source": [
        "## Remove punctuations\n",
        "clean_data[\"text_description\"] = clean_data[\"text_description\"].apply(lambda l: [s.translate(str.maketrans('','',string.punctuation)) for s in l])"
      ],
      "metadata": {
        "id": "zxJHgmBGl_6R"
      },
      "execution_count": 28,
      "outputs": []
    },
    {
      "cell_type": "code",
      "source": [
        "# Noise Removal\n",
        "clean_data[\"text_description\"] = clean_data[\"text_description\"].apply(lambda l: [s for s in l if s.isalpha()])"
      ],
      "metadata": {
        "id": "YyNrnWKssGj1"
      },
      "execution_count": 29,
      "outputs": []
    },
    {
      "cell_type": "code",
      "source": [
        "## Remove stopwords \n",
        "clean_data[\"text_description\"] = clean_data[\"text_description\"].apply(lambda l: [s for s in l if s not in stopword])"
      ],
      "metadata": {
        "id": "Bp-ol_9omPJz"
      },
      "execution_count": 30,
      "outputs": []
    },
    {
      "cell_type": "code",
      "source": [
        "## Lemmatization\n",
        "clean_data[\"text_description\"] = clean_data[\"text_description\"].apply(lambda l: [PorterStemmer().stem(s) for s in l])"
      ],
      "metadata": {
        "id": "YhVSj38OpgZa"
      },
      "execution_count": 31,
      "outputs": []
    },
    {
      "cell_type": "code",
      "source": [
        "clean_data"
      ],
      "metadata": {
        "id": "3XAIsDoQ7qMk",
        "colab": {
          "base_uri": "https://localhost:8080/",
          "height": 424
        },
        "outputId": "5e89a864-466a-4171-f7f3-f70cd27d5346"
      },
      "execution_count": 32,
      "outputs": [
        {
          "output_type": "execute_result",
          "data": {
            "text/plain": [
              "                                        text_description  gender\n",
              "0      [robbi, respond, critic, eddi, edward, sing, r...       0\n",
              "1      [ûïit, felt, like, friend, live, stori, û, aut...       0\n",
              "2      [absolut, ador, loui, start, song, hit, hard, ...       0\n",
              "3      [look, dont, typic, advanc, user, mobil, guy, ...       0\n",
              "4      [watch, neighbour, sky, catch, neighb, ù, äù, ...       1\n",
              "...                                                  ...     ...\n",
              "17796                           [fine, ill, drink, love]       1\n",
              "17797  [greg, hardi, good, player, dont, face, bryant...       0\n",
              "17798  [miss, peopl, still, never, want, look, lost, ...       0\n",
              "17799  [notic, tendenc, carpet, didnt, want, anyth, a...       1\n",
              "17800  [think, apush, creativ, project, go, bring, ba...       1\n",
              "\n",
              "[17801 rows x 2 columns]"
            ],
            "text/html": [
              "\n",
              "  <div id=\"df-4faba5bc-f800-43a1-97d3-209f9682bc52\">\n",
              "    <div class=\"colab-df-container\">\n",
              "      <div>\n",
              "<style scoped>\n",
              "    .dataframe tbody tr th:only-of-type {\n",
              "        vertical-align: middle;\n",
              "    }\n",
              "\n",
              "    .dataframe tbody tr th {\n",
              "        vertical-align: top;\n",
              "    }\n",
              "\n",
              "    .dataframe thead th {\n",
              "        text-align: right;\n",
              "    }\n",
              "</style>\n",
              "<table border=\"1\" class=\"dataframe\">\n",
              "  <thead>\n",
              "    <tr style=\"text-align: right;\">\n",
              "      <th></th>\n",
              "      <th>text_description</th>\n",
              "      <th>gender</th>\n",
              "    </tr>\n",
              "  </thead>\n",
              "  <tbody>\n",
              "    <tr>\n",
              "      <th>0</th>\n",
              "      <td>[robbi, respond, critic, eddi, edward, sing, r...</td>\n",
              "      <td>0</td>\n",
              "    </tr>\n",
              "    <tr>\n",
              "      <th>1</th>\n",
              "      <td>[ûïit, felt, like, friend, live, stori, û, aut...</td>\n",
              "      <td>0</td>\n",
              "    </tr>\n",
              "    <tr>\n",
              "      <th>2</th>\n",
              "      <td>[absolut, ador, loui, start, song, hit, hard, ...</td>\n",
              "      <td>0</td>\n",
              "    </tr>\n",
              "    <tr>\n",
              "      <th>3</th>\n",
              "      <td>[look, dont, typic, advanc, user, mobil, guy, ...</td>\n",
              "      <td>0</td>\n",
              "    </tr>\n",
              "    <tr>\n",
              "      <th>4</th>\n",
              "      <td>[watch, neighbour, sky, catch, neighb, ù, äù, ...</td>\n",
              "      <td>1</td>\n",
              "    </tr>\n",
              "    <tr>\n",
              "      <th>...</th>\n",
              "      <td>...</td>\n",
              "      <td>...</td>\n",
              "    </tr>\n",
              "    <tr>\n",
              "      <th>17796</th>\n",
              "      <td>[fine, ill, drink, love]</td>\n",
              "      <td>1</td>\n",
              "    </tr>\n",
              "    <tr>\n",
              "      <th>17797</th>\n",
              "      <td>[greg, hardi, good, player, dont, face, bryant...</td>\n",
              "      <td>0</td>\n",
              "    </tr>\n",
              "    <tr>\n",
              "      <th>17798</th>\n",
              "      <td>[miss, peopl, still, never, want, look, lost, ...</td>\n",
              "      <td>0</td>\n",
              "    </tr>\n",
              "    <tr>\n",
              "      <th>17799</th>\n",
              "      <td>[notic, tendenc, carpet, didnt, want, anyth, a...</td>\n",
              "      <td>1</td>\n",
              "    </tr>\n",
              "    <tr>\n",
              "      <th>17800</th>\n",
              "      <td>[think, apush, creativ, project, go, bring, ba...</td>\n",
              "      <td>1</td>\n",
              "    </tr>\n",
              "  </tbody>\n",
              "</table>\n",
              "<p>17801 rows × 2 columns</p>\n",
              "</div>\n",
              "      <button class=\"colab-df-convert\" onclick=\"convertToInteractive('df-4faba5bc-f800-43a1-97d3-209f9682bc52')\"\n",
              "              title=\"Convert this dataframe to an interactive table.\"\n",
              "              style=\"display:none;\">\n",
              "        \n",
              "  <svg xmlns=\"http://www.w3.org/2000/svg\" height=\"24px\"viewBox=\"0 0 24 24\"\n",
              "       width=\"24px\">\n",
              "    <path d=\"M0 0h24v24H0V0z\" fill=\"none\"/>\n",
              "    <path d=\"M18.56 5.44l.94 2.06.94-2.06 2.06-.94-2.06-.94-.94-2.06-.94 2.06-2.06.94zm-11 1L8.5 8.5l.94-2.06 2.06-.94-2.06-.94L8.5 2.5l-.94 2.06-2.06.94zm10 10l.94 2.06.94-2.06 2.06-.94-2.06-.94-.94-2.06-.94 2.06-2.06.94z\"/><path d=\"M17.41 7.96l-1.37-1.37c-.4-.4-.92-.59-1.43-.59-.52 0-1.04.2-1.43.59L10.3 9.45l-7.72 7.72c-.78.78-.78 2.05 0 2.83L4 21.41c.39.39.9.59 1.41.59.51 0 1.02-.2 1.41-.59l7.78-7.78 2.81-2.81c.8-.78.8-2.07 0-2.86zM5.41 20L4 18.59l7.72-7.72 1.47 1.35L5.41 20z\"/>\n",
              "  </svg>\n",
              "      </button>\n",
              "      \n",
              "  <style>\n",
              "    .colab-df-container {\n",
              "      display:flex;\n",
              "      flex-wrap:wrap;\n",
              "      gap: 12px;\n",
              "    }\n",
              "\n",
              "    .colab-df-convert {\n",
              "      background-color: #E8F0FE;\n",
              "      border: none;\n",
              "      border-radius: 50%;\n",
              "      cursor: pointer;\n",
              "      display: none;\n",
              "      fill: #1967D2;\n",
              "      height: 32px;\n",
              "      padding: 0 0 0 0;\n",
              "      width: 32px;\n",
              "    }\n",
              "\n",
              "    .colab-df-convert:hover {\n",
              "      background-color: #E2EBFA;\n",
              "      box-shadow: 0px 1px 2px rgba(60, 64, 67, 0.3), 0px 1px 3px 1px rgba(60, 64, 67, 0.15);\n",
              "      fill: #174EA6;\n",
              "    }\n",
              "\n",
              "    [theme=dark] .colab-df-convert {\n",
              "      background-color: #3B4455;\n",
              "      fill: #D2E3FC;\n",
              "    }\n",
              "\n",
              "    [theme=dark] .colab-df-convert:hover {\n",
              "      background-color: #434B5C;\n",
              "      box-shadow: 0px 1px 3px 1px rgba(0, 0, 0, 0.15);\n",
              "      filter: drop-shadow(0px 1px 2px rgba(0, 0, 0, 0.3));\n",
              "      fill: #FFFFFF;\n",
              "    }\n",
              "  </style>\n",
              "\n",
              "      <script>\n",
              "        const buttonEl =\n",
              "          document.querySelector('#df-4faba5bc-f800-43a1-97d3-209f9682bc52 button.colab-df-convert');\n",
              "        buttonEl.style.display =\n",
              "          google.colab.kernel.accessAllowed ? 'block' : 'none';\n",
              "\n",
              "        async function convertToInteractive(key) {\n",
              "          const element = document.querySelector('#df-4faba5bc-f800-43a1-97d3-209f9682bc52');\n",
              "          const dataTable =\n",
              "            await google.colab.kernel.invokeFunction('convertToInteractive',\n",
              "                                                     [key], {});\n",
              "          if (!dataTable) return;\n",
              "\n",
              "          const docLinkHtml = 'Like what you see? Visit the ' +\n",
              "            '<a target=\"_blank\" href=https://colab.research.google.com/notebooks/data_table.ipynb>data table notebook</a>'\n",
              "            + ' to learn more about interactive tables.';\n",
              "          element.innerHTML = '';\n",
              "          dataTable['output_type'] = 'display_data';\n",
              "          await google.colab.output.renderOutput(dataTable, element);\n",
              "          const docLink = document.createElement('div');\n",
              "          docLink.innerHTML = docLinkHtml;\n",
              "          element.appendChild(docLink);\n",
              "        }\n",
              "      </script>\n",
              "    </div>\n",
              "  </div>\n",
              "  "
            ]
          },
          "metadata": {},
          "execution_count": 32
        }
      ]
    },
    {
      "cell_type": "markdown",
      "source": [
        "### Text Analysis"
      ],
      "metadata": {
        "id": "q2gsbPOph0-p"
      }
    },
    {
      "cell_type": "code",
      "source": [
        "Male = clean_data[clean_data['gender'] == 0]\n",
        "Female = clean_data[clean_data['gender'] == 1]\n",
        "Brand = clean_data[clean_data['gender'] == 2]"
      ],
      "metadata": {
        "id": "DxsqMLs9hNwx"
      },
      "execution_count": 33,
      "outputs": []
    },
    {
      "cell_type": "code",
      "source": [
        "## Word Frequency Count Based On Gender\n",
        "Male_Words = pd.Series(' '.join(Male['text_description'].astype(str)).lower().split(\" \")).value_counts()[:20]\n",
        "Female_Words = pd.Series(' '.join(Female['text_description'].astype(str)).lower().split(\" \")).value_counts()[:20]\n",
        "Brand_Words = pd.Series(' '.join(Brand['text_description'].astype(str)).lower().split(\" \")).value_counts()[:20]"
      ],
      "metadata": {
        "id": "h0E1wTyDtRmD"
      },
      "execution_count": 34,
      "outputs": []
    },
    {
      "cell_type": "code",
      "source": [
        "Male_Words"
      ],
      "metadata": {
        "colab": {
          "base_uri": "https://localhost:8080/"
        },
        "id": "GnwV2Hw2yehJ",
        "outputId": "c7295fbd-f851-45cd-d3bc-2200e1deac1c"
      },
      "execution_count": 35,
      "outputs": [
        {
          "output_type": "execute_result",
          "data": {
            "text/plain": [
              "'love',      540\n",
              "'like',      477\n",
              "'êû',        438\n",
              "'make',      331\n",
              "'dont',      321\n",
              "'time',      317\n",
              "'û',         298\n",
              "'life',      295\n",
              "'ù',         280\n",
              "'follow',    264\n",
              "'ü',         247\n",
              "'music',     239\n",
              "'live',      238\n",
              "'good',      225\n",
              "'game',      224\n",
              "'work',      222\n",
              "'peopl',     220\n",
              "'know',      216\n",
              "'year',      214\n",
              "'want',      201\n",
              "dtype: int64"
            ]
          },
          "metadata": {},
          "execution_count": 35
        }
      ]
    },
    {
      "cell_type": "code",
      "source": [
        "Male_Words.plot(kind='bar',stacked=True)"
      ],
      "metadata": {
        "colab": {
          "base_uri": "https://localhost:8080/",
          "height": 317
        },
        "id": "pRWxm8zHiAkY",
        "outputId": "6695cda9-4edd-4485-b8e9-662499ef3710"
      },
      "execution_count": 36,
      "outputs": [
        {
          "output_type": "execute_result",
          "data": {
            "text/plain": [
              "<matplotlib.axes._subplots.AxesSubplot at 0x7f025a566950>"
            ]
          },
          "metadata": {},
          "execution_count": 36
        },
        {
          "output_type": "display_data",
          "data": {
            "text/plain": [
              "<Figure size 432x288 with 1 Axes>"
            ],
            "image/png": "[encoded data removed]"
          },
          "metadata": {}
        }
      ]
    },
    {
      "cell_type": "code",
      "source": [
        "Female_Words"
      ],
      "metadata": {
        "colab": {
          "base_uri": "https://localhost:8080/"
        },
        "id": "dM-bpDQRiFZQ",
        "outputId": "4563865b-62f6-4bb3-ebc6-8341a6ade492"
      },
      "execution_count": 37,
      "outputs": [
        {
          "output_type": "execute_result",
          "data": {
            "text/plain": [
              "'ù',         820\n",
              "'love',      766\n",
              "'like',      613\n",
              "'ü',         493\n",
              "'make',      435\n",
              "'û',         424\n",
              "'life',      361\n",
              "'dont',      361\n",
              "'time',      357\n",
              "'follow',    324\n",
              "'girl',      285\n",
              "'live',      271\n",
              "'peopl',     261\n",
              "'want',      251\n",
              "'ü']         247\n",
              "'thing',     244\n",
              "'know',      236\n",
              "'work',      229\n",
              "'best',      218\n",
              "'look',      215\n",
              "dtype: int64"
            ]
          },
          "metadata": {},
          "execution_count": 37
        }
      ]
    },
    {
      "cell_type": "code",
      "source": [
        "Female_Words.plot(kind='bar',stacked=True)"
      ],
      "metadata": {
        "colab": {
          "base_uri": "https://localhost:8080/",
          "height": 317
        },
        "id": "hnCyE7EDyeen",
        "outputId": "79862545-6245-4490-933c-8fd94983547f"
      },
      "execution_count": 38,
      "outputs": [
        {
          "output_type": "execute_result",
          "data": {
            "text/plain": [
              "<matplotlib.axes._subplots.AxesSubplot at 0x7f025a757dd0>"
            ]
          },
          "metadata": {},
          "execution_count": 38
        },
        {
          "output_type": "display_data",
          "data": {
            "text/plain": [
              "<Figure size 432x288 with 1 Axes>"
            ],
            "image/png": "[encoded data removed]"
          },
          "metadata": {}
        }
      ]
    },
    {
      "cell_type": "code",
      "source": [
        "Brand_Words"
      ],
      "metadata": {
        "outputId": "2f132188-b38d-4443-8238-3f7260106360",
        "colab": {
          "base_uri": "https://localhost:8080/"
        },
        "id": "CixK5yZPiL-h"
      },
      "execution_count": 39,
      "outputs": [
        {
          "output_type": "execute_result",
          "data": {
            "text/plain": [
              "'updat',       1325\n",
              "'weather',     1119\n",
              "['weather',    1105\n",
              "'channel']      992\n",
              "'news',         537\n",
              "'follow',       358\n",
              "'û',            351\n",
              "'make',         256\n",
              "'love',         237\n",
              "'best',         220\n",
              "'tweet',        215\n",
              "'game',         203\n",
              "'help',         202\n",
              "'world',        195\n",
              "'twitter',      194\n",
              "'free',         191\n",
              "'channel',      190\n",
              "'like',         189\n",
              "'offici',       184\n",
              "'latest',       182\n",
              "dtype: int64"
            ]
          },
          "metadata": {},
          "execution_count": 39
        }
      ]
    },
    {
      "cell_type": "code",
      "source": [
        "Brand_Words.plot(kind='bar',stacked=True)"
      ],
      "metadata": {
        "colab": {
          "base_uri": "https://localhost:8080/",
          "height": 334
        },
        "outputId": "f6e5c298-557c-4a05-d29f-ccfb8d7c52b5",
        "id": "BlnU9BBMiL-k"
      },
      "execution_count": 40,
      "outputs": [
        {
          "output_type": "execute_result",
          "data": {
            "text/plain": [
              "<matplotlib.axes._subplots.AxesSubplot at 0x7f025a7796d0>"
            ]
          },
          "metadata": {},
          "execution_count": 40
        },
        {
          "output_type": "display_data",
          "data": {
            "text/plain": [
              "<Figure size 432x288 with 1 Axes>"
            ],
            "image/png": "[encoded data removed]"
          },
          "metadata": {}
        }
      ]
    },
    {
      "cell_type": "markdown",
      "source": [
        "# Part 2 - Model development"
      ],
      "metadata": {
        "id": "ToIh3XlOcs0z"
      }
    },
    {
      "cell_type": "code",
      "source": [
        "clean_data"
      ],
      "metadata": {
        "colab": {
          "base_uri": "https://localhost:8080/",
          "height": 424
        },
        "id": "5CDL9jAbc2VS",
        "outputId": "fc368714-d30c-48a1-bdc2-b50b14f3735b"
      },
      "execution_count": 41,
      "outputs": [
        {
          "output_type": "execute_result",
          "data": {
            "text/plain": [
              "                                        text_description  gender\n",
              "0      [robbi, respond, critic, eddi, edward, sing, r...       0\n",
              "1      [ûïit, felt, like, friend, live, stori, û, aut...       0\n",
              "2      [absolut, ador, loui, start, song, hit, hard, ...       0\n",
              "3      [look, dont, typic, advanc, user, mobil, guy, ...       0\n",
              "4      [watch, neighbour, sky, catch, neighb, ù, äù, ...       1\n",
              "...                                                  ...     ...\n",
              "17796                           [fine, ill, drink, love]       1\n",
              "17797  [greg, hardi, good, player, dont, face, bryant...       0\n",
              "17798  [miss, peopl, still, never, want, look, lost, ...       0\n",
              "17799  [notic, tendenc, carpet, didnt, want, anyth, a...       1\n",
              "17800  [think, apush, creativ, project, go, bring, ba...       1\n",
              "\n",
              "[17801 rows x 2 columns]"
            ],
            "text/html": [
              "\n",
              "  <div id=\"df-91cd4ebd-07be-4e25-b59e-0a84433dac76\">\n",
              "    <div class=\"colab-df-container\">\n",
              "      <div>\n",
              "<style scoped>\n",
              "    .dataframe tbody tr th:only-of-type {\n",
              "        vertical-align: middle;\n",
              "    }\n",
              "\n",
              "    .dataframe tbody tr th {\n",
              "        vertical-align: top;\n",
              "    }\n",
              "\n",
              "    .dataframe thead th {\n",
              "        text-align: right;\n",
              "    }\n",
              "</style>\n",
              "<table border=\"1\" class=\"dataframe\">\n",
              "  <thead>\n",
              "    <tr style=\"text-align: right;\">\n",
              "      <th></th>\n",
              "      <th>text_description</th>\n",
              "      <th>gender</th>\n",
              "    </tr>\n",
              "  </thead>\n",
              "  <tbody>\n",
              "    <tr>\n",
              "      <th>0</th>\n",
              "      <td>[robbi, respond, critic, eddi, edward, sing, r...</td>\n",
              "      <td>0</td>\n",
              "    </tr>\n",
              "    <tr>\n",
              "      <th>1</th>\n",
              "      <td>[ûïit, felt, like, friend, live, stori, û, aut...</td>\n",
              "      <td>0</td>\n",
              "    </tr>\n",
              "    <tr>\n",
              "      <th>2</th>\n",
              "      <td>[absolut, ador, loui, start, song, hit, hard, ...</td>\n",
              "      <td>0</td>\n",
              "    </tr>\n",
              "    <tr>\n",
              "      <th>3</th>\n",
              "      <td>[look, dont, typic, advanc, user, mobil, guy, ...</td>\n",
              "      <td>0</td>\n",
              "    </tr>\n",
              "    <tr>\n",
              "      <th>4</th>\n",
              "      <td>[watch, neighbour, sky, catch, neighb, ù, äù, ...</td>\n",
              "      <td>1</td>\n",
              "    </tr>\n",
              "    <tr>\n",
              "      <th>...</th>\n",
              "      <td>...</td>\n",
              "      <td>...</td>\n",
              "    </tr>\n",
              "    <tr>\n",
              "      <th>17796</th>\n",
              "      <td>[fine, ill, drink, love]</td>\n",
              "      <td>1</td>\n",
              "    </tr>\n",
              "    <tr>\n",
              "      <th>17797</th>\n",
              "      <td>[greg, hardi, good, player, dont, face, bryant...</td>\n",
              "      <td>0</td>\n",
              "    </tr>\n",
              "    <tr>\n",
              "      <th>17798</th>\n",
              "      <td>[miss, peopl, still, never, want, look, lost, ...</td>\n",
              "      <td>0</td>\n",
              "    </tr>\n",
              "    <tr>\n",
              "      <th>17799</th>\n",
              "      <td>[notic, tendenc, carpet, didnt, want, anyth, a...</td>\n",
              "      <td>1</td>\n",
              "    </tr>\n",
              "    <tr>\n",
              "      <th>17800</th>\n",
              "      <td>[think, apush, creativ, project, go, bring, ba...</td>\n",
              "      <td>1</td>\n",
              "    </tr>\n",
              "  </tbody>\n",
              "</table>\n",
              "<p>17801 rows × 2 columns</p>\n",
              "</div>\n",
              "      <button class=\"colab-df-convert\" onclick=\"convertToInteractive('df-91cd4ebd-07be-4e25-b59e-0a84433dac76')\"\n",
              "              title=\"Convert this dataframe to an interactive table.\"\n",
              "              style=\"display:none;\">\n",
              "        \n",
              "  <svg xmlns=\"http://www.w3.org/2000/svg\" height=\"24px\"viewBox=\"0 0 24 24\"\n",
              "       width=\"24px\">\n",
              "    <path d=\"M0 0h24v24H0V0z\" fill=\"none\"/>\n",
              "    <path d=\"M18.56 5.44l.94 2.06.94-2.06 2.06-.94-2.06-.94-.94-2.06-.94 2.06-2.06.94zm-11 1L8.5 8.5l.94-2.06 2.06-.94-2.06-.94L8.5 2.5l-.94 2.06-2.06.94zm10 10l.94 2.06.94-2.06 2.06-.94-2.06-.94-.94-2.06-.94 2.06-2.06.94z\"/><path d=\"M17.41 7.96l-1.37-1.37c-.4-.4-.92-.59-1.43-.59-.52 0-1.04.2-1.43.59L10.3 9.45l-7.72 7.72c-.78.78-.78 2.05 0 2.83L4 21.41c.39.39.9.59 1.41.59.51 0 1.02-.2 1.41-.59l7.78-7.78 2.81-2.81c.8-.78.8-2.07 0-2.86zM5.41 20L4 18.59l7.72-7.72 1.47 1.35L5.41 20z\"/>\n",
              "  </svg>\n",
              "      </button>\n",
              "      \n",
              "  <style>\n",
              "    .colab-df-container {\n",
              "      display:flex;\n",
              "      flex-wrap:wrap;\n",
              "      gap: 12px;\n",
              "    }\n",
              "\n",
              "    .colab-df-convert {\n",
              "      background-color: #E8F0FE;\n",
              "      border: none;\n",
              "      border-radius: 50%;\n",
              "      cursor: pointer;\n",
              "      display: none;\n",
              "      fill: #1967D2;\n",
              "      height: 32px;\n",
              "      padding: 0 0 0 0;\n",
              "      width: 32px;\n",
              "    }\n",
              "\n",
              "    .colab-df-convert:hover {\n",
              "      background-color: #E2EBFA;\n",
              "      box-shadow: 0px 1px 2px rgba(60, 64, 67, 0.3), 0px 1px 3px 1px rgba(60, 64, 67, 0.15);\n",
              "      fill: #174EA6;\n",
              "    }\n",
              "\n",
              "    [theme=dark] .colab-df-convert {\n",
              "      background-color: #3B4455;\n",
              "      fill: #D2E3FC;\n",
              "    }\n",
              "\n",
              "    [theme=dark] .colab-df-convert:hover {\n",
              "      background-color: #434B5C;\n",
              "      box-shadow: 0px 1px 3px 1px rgba(0, 0, 0, 0.15);\n",
              "      filter: drop-shadow(0px 1px 2px rgba(0, 0, 0, 0.3));\n",
              "      fill: #FFFFFF;\n",
              "    }\n",
              "  </style>\n",
              "\n",
              "      <script>\n",
              "        const buttonEl =\n",
              "          document.querySelector('#df-91cd4ebd-07be-4e25-b59e-0a84433dac76 button.colab-df-convert');\n",
              "        buttonEl.style.display =\n",
              "          google.colab.kernel.accessAllowed ? 'block' : 'none';\n",
              "\n",
              "        async function convertToInteractive(key) {\n",
              "          const element = document.querySelector('#df-91cd4ebd-07be-4e25-b59e-0a84433dac76');\n",
              "          const dataTable =\n",
              "            await google.colab.kernel.invokeFunction('convertToInteractive',\n",
              "                                                     [key], {});\n",
              "          if (!dataTable) return;\n",
              "\n",
              "          const docLinkHtml = 'Like what you see? Visit the ' +\n",
              "            '<a target=\"_blank\" href=https://colab.research.google.com/notebooks/data_table.ipynb>data table notebook</a>'\n",
              "            + ' to learn more about interactive tables.';\n",
              "          element.innerHTML = '';\n",
              "          dataTable['output_type'] = 'display_data';\n",
              "          await google.colab.output.renderOutput(dataTable, element);\n",
              "          const docLink = document.createElement('div');\n",
              "          docLink.innerHTML = docLinkHtml;\n",
              "          element.appendChild(docLink);\n",
              "        }\n",
              "      </script>\n",
              "    </div>\n",
              "  </div>\n",
              "  "
            ]
          },
          "metadata": {},
          "execution_count": 41
        }
      ]
    },
    {
      "cell_type": "code",
      "source": [
        "# split the dataset in train and test\n",
        "X = clean_data['text_description']\n",
        "y = clean_data['gender']\n",
        "\n",
        "X_train, X_test, y_train, y_test = train_test_split(X, y, test_size=0.3, random_state=0, stratify=y)\n",
        "\n",
        "X_train.head()\n",
        "X_train.isnull().values.any() # To make sure there is no null value"
      ],
      "metadata": {
        "id": "tB3SS7I4z-R5",
        "colab": {
          "base_uri": "https://localhost:8080/"
        },
        "outputId": "596e5303-e7df-4f1c-9f6d-53251acad16b"
      },
      "execution_count": 42,
      "outputs": [
        {
          "output_type": "execute_result",
          "data": {
            "text/plain": [
              "False"
            ]
          },
          "metadata": {},
          "execution_count": 42
        }
      ]
    },
    {
      "cell_type": "code",
      "source": [
        "## Using Count Vectorizer (BOW)\n",
        "def identity_tokenizer(text):\n",
        "    return text\n",
        "\n",
        "cv = CountVectorizer(tokenizer=identity_tokenizer, stop_words='english', lowercase=False, max_features = 10000)\n",
        "\n",
        "sparce_matrix = cv.fit(clean_data['text_description'])\n",
        "\n",
        "Train_X_cv = sparce_matrix.transform(X_train)\n",
        "Test_X_cv = sparce_matrix.transform(X_test)"
      ],
      "metadata": {
        "id": "b1OUFyTHz-Pf"
      },
      "execution_count": 43,
      "outputs": []
    },
    {
      "cell_type": "code",
      "source": [
        "# Support Vector Machine Implementation\n",
        "### SVM with Linear kernel\n",
        "SVM = svm.SVC(kernel='linear')\n",
        "SVM.fit(Train_X_cv,y_train)\n",
        "\n",
        "# predict the labels on validation dataset\n",
        "predictions_SVM = SVM.predict(Test_X_cv)\n",
        "\n",
        "## Reports\n",
        "print(\"SVM - linear kernel Accuracy Score -> \",accuracy_score(predictions_SVM, y_test)*100)\n",
        "print('Confusion matrix:\\n',confusion_matrix(predictions_SVM, y_test))\n",
        "print('Classification report:\\n',classification_report(predictions_SVM, y_test))"
      ],
      "metadata": {
        "id": "sGx7aVmIz9Tr",
        "colab": {
          "base_uri": "https://localhost:8080/"
        },
        "outputId": "9839eb7f-3169-43f5-fbc2-0a057f70d8d0"
      },
      "execution_count": 44,
      "outputs": [
        {
          "output_type": "stream",
          "name": "stdout",
          "text": [
            "SVM - linear kernel Accuracy Score ->  57.311364912937655\n",
            "Confusion matrix:\n",
            " [[ 861  605  354]\n",
            " [ 643 1160  269]\n",
            " [ 246  163 1040]]\n",
            "Classification report:\n",
            "               precision    recall  f1-score   support\n",
            "\n",
            "           0       0.49      0.47      0.48      1820\n",
            "           1       0.60      0.56      0.58      2072\n",
            "           2       0.63      0.72      0.67      1449\n",
            "\n",
            "    accuracy                           0.57      5341\n",
            "   macro avg       0.57      0.58      0.58      5341\n",
            "weighted avg       0.57      0.57      0.57      5341\n",
            "\n"
          ]
        }
      ]
    },
    {
      "cell_type": "code",
      "source": [
        "# Support Vector Machine Implementation\n",
        "### SVM with Sigmoid kernel\n",
        "SVM = svm.SVC(kernel='sigmoid')\n",
        "SVM.fit(Train_X_cv,y_train)\n",
        "\n",
        "# predict the labels on validation dataset\n",
        "predictions_SVM = SVM.predict(Test_X_cv)\n",
        "\n",
        "## Reports\n",
        "print(\"SVM - sigmoid kenrel Accuracy Score -> \",accuracy_score(predictions_SVM, y_test)*100)\n",
        "print('Confusion matrix:\\n',confusion_matrix(predictions_SVM, y_test))\n",
        "print('Classification report:\\n',classification_report(predictions_SVM, y_test))"
      ],
      "metadata": {
        "colab": {
          "base_uri": "https://localhost:8080/"
        },
        "id": "SmJJzNDfecpC",
        "outputId": "58fcab9b-cb3e-447b-bf83-39bcc8f252a8"
      },
      "execution_count": 45,
      "outputs": [
        {
          "output_type": "stream",
          "name": "stdout",
          "text": [
            "SVM - sigmoid kenrel Accuracy Score ->  59.520689009548775\n",
            "Confusion matrix:\n",
            " [[ 853  500  323]\n",
            " [ 747 1317  331]\n",
            " [ 150  111 1009]]\n",
            "Classification report:\n",
            "               precision    recall  f1-score   support\n",
            "\n",
            "           0       0.49      0.51      0.50      1676\n",
            "           1       0.68      0.55      0.61      2395\n",
            "           2       0.61      0.79      0.69      1270\n",
            "\n",
            "    accuracy                           0.60      5341\n",
            "   macro avg       0.59      0.62      0.60      5341\n",
            "weighted avg       0.60      0.60      0.59      5341\n",
            "\n"
          ]
        }
      ]
    },
    {
      "cell_type": "code",
      "source": [
        "# Support Vector Machine Implementation\n",
        "### SVM with RBF kernel\n",
        "SVM = svm.SVC(kernel='rbf')\n",
        "SVM.fit(Train_X_cv,y_train)\n",
        "\n",
        "# predict the labels on validation dataset\n",
        "predictions_SVM = SVM.predict(Test_X_cv)\n",
        "\n",
        "## Reports\n",
        "print(\"SVM - rbf kernel Accuracy Score -> \",accuracy_score(predictions_SVM, y_test)*100)\n",
        "print('Confusion matrix:\\n',confusion_matrix(predictions_SVM, y_test))\n",
        "print('Classification report:\\n',classification_report(predictions_SVM, y_test))"
      ],
      "metadata": {
        "colab": {
          "base_uri": "https://localhost:8080/"
        },
        "id": "DT4shGvlecry",
        "outputId": "706e5998-88d6-44a4-aafd-407fc5ca94ca"
      },
      "execution_count": 46,
      "outputs": [
        {
          "output_type": "stream",
          "name": "stdout",
          "text": [
            "SVM - rbf kernel Accuracy Score ->  61.505336079385884\n",
            "Confusion matrix:\n",
            " [[ 809  399  279]\n",
            " [ 782 1408  316]\n",
            " [ 159  121 1068]]\n",
            "Classification report:\n",
            "               precision    recall  f1-score   support\n",
            "\n",
            "           0       0.46      0.54      0.50      1487\n",
            "           1       0.73      0.56      0.64      2506\n",
            "           2       0.64      0.79      0.71      1348\n",
            "\n",
            "    accuracy                           0.62      5341\n",
            "   macro avg       0.61      0.63      0.61      5341\n",
            "weighted avg       0.63      0.62      0.62      5341\n",
            "\n"
          ]
        }
      ]
    },
    {
      "cell_type": "code",
      "source": [
        "## Confusion Matrix for SVM (rbf kernel)\n",
        "plot_confusion_matrix(SVM, Test_X_cv, y_test)  \n",
        "plt.show()"
      ],
      "metadata": {
        "colab": {
          "base_uri": "https://localhost:8080/",
          "height": 287
        },
        "id": "6mEDea_oytFV",
        "outputId": "415296fa-f0f6-4f41-c0f3-a3f0a1ffe10d"
      },
      "execution_count": 47,
      "outputs": [
        {
          "output_type": "display_data",
          "data": {
            "text/plain": [
              "<Figure size 432x288 with 2 Axes>"
            ],
            "image/png": "[encoded data removed]"
          },
          "metadata": {}
        }
      ]
    },
    {
      "cell_type": "markdown",
      "source": [
        "## Prediction of Male - Female Gender (Remove Brand accounts)"
      ],
      "metadata": {
        "id": "2EO-z4TXfn7G"
      }
    },
    {
      "cell_type": "code",
      "source": [
        "## Remove Brand columns\n",
        "\n",
        "mf_data = clean_data[clean_data['gender'] != 2]"
      ],
      "metadata": {
        "id": "HSA0MZNEeclg"
      },
      "execution_count": 48,
      "outputs": []
    },
    {
      "cell_type": "code",
      "source": [
        "## Remove Brand columns\n",
        "mf_data.gender.value_counts()"
      ],
      "metadata": {
        "colab": {
          "base_uri": "https://localhost:8080/"
        },
        "id": "iTIZoXQ3ecjA",
        "outputId": "2a77f16b-2d6b-4858-ca92-00e1e346f436"
      },
      "execution_count": 49,
      "outputs": [
        {
          "output_type": "execute_result",
          "data": {
            "text/plain": [
              "1    6426\n",
              "0    5831\n",
              "Name: gender, dtype: int64"
            ]
          },
          "metadata": {},
          "execution_count": 49
        }
      ]
    },
    {
      "cell_type": "code",
      "source": [
        "# split the dataset in train and test\n",
        "X = mf_data['text_description']\n",
        "y = mf_data['gender']\n",
        "\n",
        "X_train, X_test, y_train, y_test = train_test_split(X, y, test_size=0.3, random_state=0, stratify=y)\n",
        "\n",
        "X_train.head()\n",
        "X_train.isnull().values.any() # To make sure there is no null value"
      ],
      "metadata": {
        "colab": {
          "base_uri": "https://localhost:8080/"
        },
        "outputId": "cb8cf193-75d8-4b6b-8bc5-a77cc683554d",
        "id": "bBJQ7t0cged0"
      },
      "execution_count": 50,
      "outputs": [
        {
          "output_type": "execute_result",
          "data": {
            "text/plain": [
              "False"
            ]
          },
          "metadata": {},
          "execution_count": 50
        }
      ]
    },
    {
      "cell_type": "code",
      "source": [
        "## Using Count Vectorizer (BOW)\n",
        "def identity_tokenizer(text):\n",
        "    return text\n",
        "\n",
        "cv = CountVectorizer(tokenizer=identity_tokenizer, stop_words='english', lowercase=False, max_features = 10000)\n",
        "\n",
        "sparce_matrix = cv.fit(mf_data['text_description'])\n",
        "\n",
        "Train_X_cv = sparce_matrix.transform(X_train)\n",
        "Test_X_cv = sparce_matrix.transform(X_test)"
      ],
      "metadata": {
        "id": "g8jMBcD-ged3"
      },
      "execution_count": 51,
      "outputs": []
    },
    {
      "cell_type": "code",
      "source": [
        "# Support Vector Machine Implementation\n",
        "### SVM with Linear kernel\n",
        "SVM = svm.SVC(kernel='linear')\n",
        "SVM.fit(Train_X_cv,y_train)\n",
        "\n",
        "# predict the labels on validation dataset\n",
        "predictions_SVM = SVM.predict(Test_X_cv)\n",
        "\n",
        "## Reports\n",
        "print(\"SVM - linear kernel Accuracy Score -> \",accuracy_score(predictions_SVM, y_test)*100)\n",
        "print('Confusion matrix:\\n',confusion_matrix(predictions_SVM, y_test))\n",
        "print('Classification report:\\n',classification_report(predictions_SVM, y_test))"
      ],
      "metadata": {
        "colab": {
          "base_uri": "https://localhost:8080/"
        },
        "outputId": "4572a44a-d4e0-4d24-b7a3-12f8039a039f",
        "id": "OhOHKO0D2RI_"
      },
      "execution_count": 52,
      "outputs": [
        {
          "output_type": "stream",
          "name": "stdout",
          "text": [
            "SVM - linear kernel Accuracy Score ->  62.098966829798805\n",
            "Confusion matrix:\n",
            " [[ 979  623]\n",
            " [ 771 1305]]\n",
            "Classification report:\n",
            "               precision    recall  f1-score   support\n",
            "\n",
            "           0       0.56      0.61      0.58      1602\n",
            "           1       0.68      0.63      0.65      2076\n",
            "\n",
            "    accuracy                           0.62      3678\n",
            "   macro avg       0.62      0.62      0.62      3678\n",
            "weighted avg       0.63      0.62      0.62      3678\n",
            "\n"
          ]
        }
      ]
    },
    {
      "cell_type": "code",
      "source": [
        "# Support Vector Machine Implementation\n",
        "### SVM with Sigmoid kernel\n",
        "SVM = svm.SVC(kernel='sigmoid')\n",
        "SVM.fit(Train_X_cv,y_train)\n",
        "\n",
        "# predict the labels on validation dataset\n",
        "predictions_SVM = SVM.predict(Test_X_cv)\n",
        "\n",
        "## Reports\n",
        "print(\"SVM - sigmoid kenrel Accuracy Score -> \",accuracy_score(predictions_SVM, y_test)*100)\n",
        "print('Confusion matrix:\\n',confusion_matrix(predictions_SVM, y_test))\n",
        "print('Classification report:\\n',classification_report(predictions_SVM, y_test))"
      ],
      "metadata": {
        "colab": {
          "base_uri": "https://localhost:8080/"
        },
        "outputId": "104e9936-8125-4a28-b2d4-db39a3a814b9",
        "id": "thvYTpcn2RJB"
      },
      "execution_count": 53,
      "outputs": [
        {
          "output_type": "stream",
          "name": "stdout",
          "text": [
            "SVM - sigmoid kenrel Accuracy Score ->  63.73028820010875\n",
            "Confusion matrix:\n",
            " [[ 939  523]\n",
            " [ 811 1405]]\n",
            "Classification report:\n",
            "               precision    recall  f1-score   support\n",
            "\n",
            "           0       0.54      0.64      0.58      1462\n",
            "           1       0.73      0.63      0.68      2216\n",
            "\n",
            "    accuracy                           0.64      3678\n",
            "   macro avg       0.63      0.64      0.63      3678\n",
            "weighted avg       0.65      0.64      0.64      3678\n",
            "\n"
          ]
        }
      ]
    },
    {
      "cell_type": "code",
      "source": [
        "# Support Vector Machine Implementation\n",
        "### SVM with RBF kernel\n",
        "SVM = svm.SVC(kernel='rbf')\n",
        "SVM.fit(Train_X_cv,y_train)\n",
        "\n",
        "# predict the labels on validation dataset\n",
        "predictions_SVM = SVM.predict(Test_X_cv)\n",
        "\n",
        "## Reports\n",
        "print(\"SVM - rbf kernel Accuracy Score -> \",accuracy_score(predictions_SVM, y_test)*100)\n",
        "print('Confusion matrix:\\n',confusion_matrix(predictions_SVM, y_test))\n",
        "print('Classification report:\\n',classification_report(predictions_SVM, y_test))"
      ],
      "metadata": {
        "colab": {
          "base_uri": "https://localhost:8080/"
        },
        "outputId": "d536ad89-2651-481c-cc69-9de0334767c6",
        "id": "jHIOGKub2RJC"
      },
      "execution_count": 54,
      "outputs": [
        {
          "output_type": "stream",
          "name": "stdout",
          "text": [
            "SVM - rbf kernel Accuracy Score ->  64.98096791734639\n",
            "Confusion matrix:\n",
            " [[ 923  461]\n",
            " [ 827 1467]]\n",
            "Classification report:\n",
            "               precision    recall  f1-score   support\n",
            "\n",
            "           0       0.53      0.67      0.59      1384\n",
            "           1       0.76      0.64      0.69      2294\n",
            "\n",
            "    accuracy                           0.65      3678\n",
            "   macro avg       0.64      0.65      0.64      3678\n",
            "weighted avg       0.67      0.65      0.66      3678\n",
            "\n"
          ]
        }
      ]
    },
    {
      "cell_type": "code",
      "source": [
        "## Confusion Matrix for SVM (rbf kernel)\n",
        "plot_confusion_matrix(SVM, Test_X_cv, y_test)  \n",
        "plt.show()"
      ],
      "metadata": {
        "colab": {
          "base_uri": "https://localhost:8080/",
          "height": 285
        },
        "outputId": "36befe61-bc83-4fdd-e5bb-eb352d7b5bc4",
        "id": "G2zbdc8Z2RJE"
      },
      "execution_count": 55,
      "outputs": [
        {
          "output_type": "display_data",
          "data": {
            "text/plain": [
              "<Figure size 432x288 with 2 Axes>"
            ],
            "image/png": "[encoded data removed]"
          },
          "metadata": {}
        }
      ]
    }
  ]
}